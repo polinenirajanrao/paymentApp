{
 "cells": [
  {
   "cell_type": "markdown",
   "metadata": {},
   "source": [
    "#### AWS Textract - Text Extraction from PMG File"
   ]
  },
  {
   "cell_type": "code",
   "execution_count": 10,
   "metadata": {},
   "outputs": [],
   "source": [
    "import boto3"
   ]
  },
  {
   "cell_type": "code",
   "execution_count": 11,
   "metadata": {},
   "outputs": [],
   "source": [
    "docName = 'Two_Column_Para.PNG'"
   ]
  },
  {
   "cell_type": "code",
   "execution_count": 12,
   "metadata": {},
   "outputs": [],
   "source": [
    "with open(docName, 'rb') as file :\n",
    "    imageBytes = bytearray(file.read())"
   ]
  },
  {
   "cell_type": "code",
   "execution_count": 13,
   "metadata": {},
   "outputs": [],
   "source": [
    "textract = boto3.client(service_name = 'textract', region_name = 'us-east-1')"
   ]
  },
  {
   "cell_type": "code",
   "execution_count": 14,
   "metadata": {},
   "outputs": [],
   "source": [
    "### Calling Amazon Textract\n",
    "response = textract.detect_document_text(Document = {'Bytes' : imageBytes})"
   ]
  },
  {
   "cell_type": "code",
   "execution_count": 15,
   "metadata": {},
   "outputs": [
    {
     "name": "stdout",
     "output_type": "stream",
     "text": [
      "Group Five-year\n",
      "Financial Summary\n",
      "FIVE-YEAR FINANCIAL REVIEW\n",
      "FY 2019\n",
      "The associates' pre-tax contributions declined a steep 38%\n",
      "The Group has executed well on its strategy amid\n",
      "to S$1.54 billion mainly driven by operating losses at Airtel\n",
      "challenging conditions and gained market share in mobile\n",
      "and lower contribution from Telkomsel amid aggressive\n",
      "across both Singapore and Australia. Operating revenue\n",
      "price competition in India and Indonesig. The decline was\n",
      "was stable at S$17.37 billion while EBITDA declined 7.1%\n",
      "partly mitigated by double-digit profit growth at Globe\n",
      "to S$4.69 billion due partly to a 6% depreciation in the\n",
      "with robust revenue growth in mobile and broadband\n",
      "Australian Dollar. In constant currency terms, operating\n",
      "revenue grew 3.7% driven mainly by increases in ICT,\n",
      "With lower contributions from the associates, underlying\n",
      "digita services and equipment sales. However, EBITDA\n",
      "net profit declined by 21%. Net profit was S$3.10 billion,\n",
      "was down 3.9% mainly due to lower legacy carriage\n",
      "down 44% from FY 2018 which included an exceptional\n",
      "services especially voice, and price erosion.\n",
      "gain from the divestment of units in NetLink Trust.\n"
     ]
    }
   ],
   "source": [
    "### Printing text\n",
    "for term in response[\"Blocks\"]:\n",
    "    if term[\"BlockType\"] == \"LINE\":\n",
    "        print(term[\"Text\"])"
   ]
  },
  {
   "cell_type": "code",
   "execution_count": 16,
   "metadata": {},
   "outputs": [],
   "source": [
    "## Detecting columns and printing lines\n",
    "columns = []\n",
    "lines = []\n",
    "\n",
    "for term in response[\"Blocks\"]:\n",
    "    if term[\"BlockType\"] == \"LINE\":\n",
    "        column_found = False\n",
    "        for index, column in enumerate(columns):\n",
    "            bbox_left = term[\"Geometry\"][\"BoundingBox\"][\"Left\"]\n",
    "            bbox_right = term[\"Geometry\"][\"BoundingBox\"][\"Left\"] + term[\"Geometry\"][\"BoundingBox\"][\"Width\"]\n",
    "            bbox_centre = term[\"Geometry\"][\"BoundingBox\"][\"Left\"] + term[\"Geometry\"][\"BoundingBox\"][\"Width\"]/2\n",
    "            column_centre = column[\"left\"] + column['right']/2\n",
    "            \n",
    "            if (bbox_centre > column['left'] and bbox_centre < column['right']) or \\\n",
    "            (column_centre > bbox_left and column_centre < bbox_right):\n",
    "                lines.append([index, term[\"Text\"]])\n",
    "                column_found = True\n",
    "                break\n",
    "        if not column_found:\n",
    "            columns.append({'left' : term[\"Geometry\"][\"BoundingBox\"][\"Left\"], \n",
    "                           'right' : term[\"Geometry\"][\"BoundingBox\"][\"Left\"] + term[\"Geometry\"][\"BoundingBox\"][\"Width\"]})\n",
    "            lines.append([len(columns)-1, term[\"Text\"]])"
   ]
  },
  {
   "cell_type": "code",
   "execution_count": 17,
   "metadata": {},
   "outputs": [
    {
     "name": "stdout",
     "output_type": "stream",
     "text": [
      "Group Five-year\n",
      "Financial Summary\n",
      "FIVE-YEAR FINANCIAL REVIEW\n",
      "FY 2019\n",
      "The Group has executed well on its strategy amid\n",
      "challenging conditions and gained market share in mobile\n",
      "across both Singapore and Australia. Operating revenue\n",
      "was stable at S$17.37 billion while EBITDA declined 7.1%\n",
      "to S$4.69 billion due partly to a 6% depreciation in the\n",
      "Australian Dollar. In constant currency terms, operating\n",
      "revenue grew 3.7% driven mainly by increases in ICT,\n",
      "digita services and equipment sales. However, EBITDA\n",
      "was down 3.9% mainly due to lower legacy carriage\n",
      "services especially voice, and price erosion.\n",
      "The associates' pre-tax contributions declined a steep 38%\n",
      "to S$1.54 billion mainly driven by operating losses at Airtel\n",
      "and lower contribution from Telkomsel amid aggressive\n",
      "price competition in India and Indonesig. The decline was\n",
      "partly mitigated by double-digit profit growth at Globe\n",
      "with robust revenue growth in mobile and broadband\n",
      "With lower contributions from the associates, underlying\n",
      "net profit declined by 21%. Net profit was S$3.10 billion,\n",
      "down 44% from FY 2018 which included an exceptional\n",
      "gain from the divestment of units in NetLink Trust.\n"
     ]
    }
   ],
   "source": [
    "lines.sort(key=lambda x : x[0])\n",
    "for line in lines:\n",
    "    print(line[1])"
   ]
  },
  {
   "cell_type": "code",
   "execution_count": 9,
   "metadata": {
    "scrolled": true
   },
   "outputs": [
    {
     "name": "stdout",
     "output_type": "stream",
     "text": [
      "[{'BlockType': 'PAGE', 'Geometry': {'BoundingBox': {'Width': 1.0, 'Height': 1.0, 'Left': 0.0, 'Top': 0.0}, 'Polygon': [{'X': 5.625339032106901e-17, 'Y': 0.0}, {'X': 1.0, 'Y': 2.669882260459037e-16}, {'X': 1.0, 'Y': 1.0}, {'X': 0.0, 'Y': 1.0}]}, 'Id': 'ff53e887-354e-4f35-85bb-6f3948a9afb0', 'Relationships': [{'Type': 'CHILD', 'Ids': ['8edb4d65-ddcc-4ba9-b855-b2103c810413', 'a55698c1-eb59-4f9d-a107-24e4beefb59d', 'd243159c-7959-4441-a88f-d19eca4a4fce', '5f7e1b47-9d4f-46ac-8be2-41425f67e19e', '95fe1e0f-c52f-4b5b-b077-d472d11ee676', '55640f06-ac67-4ba8-9cee-c1eb8abce2e2', '9d7b6925-5b20-46e6-bfd6-de30be2b8984', 'c04f4903-5505-4339-ab6b-9fb3221ed308', '2f871a8e-458d-4921-bd85-17ad6a43fa97', 'c679ccf4-09a0-45f4-a58d-7f857636d669', '615e5565-a531-4d87-aec2-fc5515da4cc2', '34b56e8c-df89-43ca-815d-b216829285a7', '5eeeb258-d79e-4767-9568-0e0095dbdce4', '4e725e41-88a0-4fc3-bcec-9009c63cabe0', '770fbc37-d23c-4b1a-99d0-a68dd3e04df9', '1e925fd2-4312-40ea-93ce-5013efb4d774', '96348d0f-158a-449e-989a-b1f990d19729', '643722fe-2235-441c-9225-4366c7ada242', '26e0044e-104f-4cb8-847a-f8da21608b3f', '6ddbe013-06a4-4678-80ce-7242c9328034', 'fd546c4d-441c-419f-a1ed-f38dca3a9d1c', 'e44f5034-c15b-440c-896d-a9b988eea70b', '081005cb-f32b-4364-af5e-0e21064f46fc', 'd8ecbd86-0faf-4eee-ada1-4630d34740cf']}]}, {'BlockType': 'LINE', 'Confidence': 99.81427764892578, 'Text': 'Group Five-year', 'Geometry': {'BoundingBox': {'Width': 0.33314138650894165, 'Height': 0.09677182137966156, 'Left': 0.016691982746124268, 'Top': 0.01127716340124607}, 'Polygon': [{'X': 0.016691982746124268, 'Y': 0.01127716340124607}, {'X': 0.3498333692550659, 'Y': 0.01127716340124607}, {'X': 0.3498333692550659, 'Y': 0.10804898291826248}, {'X': 0.016691982746124268, 'Y': 0.10804898291826248}]}, 'Id': '8edb4d65-ddcc-4ba9-b855-b2103c810413', 'Relationships': [{'Type': 'CHILD', 'Ids': ['0e2f992a-1240-49f5-84d2-2bdfd4335a1f', '811450b8-c0d8-4ed9-8941-764c9d63284d']}]}, {'BlockType': 'LINE', 'Confidence': 99.85454559326172, 'Text': 'Financial Summary', 'Geometry': {'BoundingBox': {'Width': 0.3865775763988495, 'Height': 0.0974743515253067, 'Left': 0.0186894703656435, 'Top': 0.118177130818367}, 'Polygon': [{'X': 0.0186894703656435, 'Y': 0.118177130818367}, {'X': 0.40526705980300903, 'Y': 0.118177130818367}, {'X': 0.40526705980300903, 'Y': 0.2156514823436737}, {'X': 0.0186894703656435, 'Y': 0.2156514823436737}]}, 'Id': 'a55698c1-eb59-4f9d-a107-24e4beefb59d', 'Relationships': [{'Type': 'CHILD', 'Ids': ['488ff097-f182-43b2-b7fd-6f97b528c554', '28b6843a-e4db-4ff5-b2e5-f97afeb4101d']}]}, {'BlockType': 'LINE', 'Confidence': 99.6614990234375, 'Text': 'FIVE-YEAR FINANCIAL REVIEW', 'Geometry': {'BoundingBox': {'Width': 0.26137280464172363, 'Height': 0.03460747003555298, 'Left': 0.01786760613322258, 'Top': 0.2848966717720032}, 'Polygon': [{'X': 0.01786760613322258, 'Y': 0.2848966717720032}, {'X': 0.2792403995990753, 'Y': 0.2848966717720032}, {'X': 0.2792403995990753, 'Y': 0.31950414180755615}, {'X': 0.01786760613322258, 'Y': 0.31950414180755615}]}, 'Id': 'd243159c-7959-4441-a88f-d19eca4a4fce', 'Relationships': [{'Type': 'CHILD', 'Ids': ['76aa61ab-bd38-4cf9-b2c9-e9dda7bb5fd0', 'db716262-b436-487e-a693-5c26c07e11bb', 'a6200e9b-cf87-47bf-b007-68930f42940d']}]}, {'BlockType': 'LINE', 'Confidence': 99.72489166259766, 'Text': 'FY 2019', 'Geometry': {'BoundingBox': {'Width': 0.06442813575267792, 'Height': 0.034385375678539276, 'Left': 0.01738334260880947, 'Top': 0.3881956934928894}, 'Polygon': [{'X': 0.01738334260880947, 'Y': 0.3881956934928894}, {'X': 0.08181148022413254, 'Y': 0.3881956934928894}, {'X': 0.08181148022413254, 'Y': 0.4225810766220093}, {'X': 0.01738334260880947, 'Y': 0.4225810766220093}]}, 'Id': '5f7e1b47-9d4f-46ac-8be2-41425f67e19e', 'Relationships': [{'Type': 'CHILD', 'Ids': ['a83f2902-cba6-4643-8bc3-185f998147d3', 'df3c8775-4de5-4ba0-b5a4-15b42f27e4de']}]}, {'BlockType': 'LINE', 'Confidence': 92.90005493164062, 'Text': \"The associates' pre-tax contributions declined a steep 38%\", 'Geometry': {'BoundingBox': {'Width': 0.4681115746498108, 'Height': 0.04180246591567993, 'Left': 0.5123968124389648, 'Top': 0.38749071955680847}, 'Polygon': [{'X': 0.5123968124389648, 'Y': 0.38749071955680847}, {'X': 0.9805083870887756, 'Y': 0.38749071955680847}, {'X': 0.9805083870887756, 'Y': 0.4292931854724884}, {'X': 0.5123968124389648, 'Y': 0.4292931854724884}]}, 'Id': '95fe1e0f-c52f-4b5b-b077-d472d11ee676', 'Relationships': [{'Type': 'CHILD', 'Ids': ['113567ce-bbbb-4b7b-a777-f7c15d77c418', '197f6c38-e118-4945-be92-ea7703967eef', '96bbeb1c-9a0d-4df6-aa37-3e4fcd01ba3b', '3db9e419-1d55-4d6a-91e6-6d4c53607e98', 'bb7225a8-aa15-44dc-8764-db306f9caad5', 'ec860424-c8df-4c16-8a2b-a7b10623ca05', '8760aed1-b018-47df-8e20-d4fc7d70cd23', 'd240502f-9ad7-4163-af40-df01054d2504']}]}, {'BlockType': 'LINE', 'Confidence': 99.68682861328125, 'Text': 'The Group has executed well on its strategy amid', 'Geometry': {'BoundingBox': {'Width': 0.3964751064777374, 'Height': 0.04288361221551895, 'Left': 0.01627335511147976, 'Top': 0.4396648108959198}, 'Polygon': [{'X': 0.01627335511147976, 'Y': 0.4396648108959198}, {'X': 0.41274845600128174, 'Y': 0.4396648108959198}, {'X': 0.41274845600128174, 'Y': 0.48254841566085815}, {'X': 0.01627335511147976, 'Y': 0.48254841566085815}]}, 'Id': '55640f06-ac67-4ba8-9cee-c1eb8abce2e2', 'Relationships': [{'Type': 'CHILD', 'Ids': ['d195b3c4-a925-445e-bea9-87d39c41a68c', '4821e7b6-55f8-4f9e-b38a-1243681b9e60', 'f0c42bf0-c53d-44a2-8db4-2bd1eca17ebc', '4f0cb611-8b67-4352-81c7-3f783bd2a733', '8693d729-6962-40eb-ae04-a50d299e2572', '5e6ac92a-b452-4e33-9c52-cb096cac1533', '22b2afae-b97d-43c5-9390-a0376942c72b', 'a3301a0b-55a4-4332-b699-eda561f68097', '7d039bbc-7caf-4ce6-a3cf-630db2c281fa']}]}, {'BlockType': 'LINE', 'Confidence': 99.16720581054688, 'Text': 'to S$1.54 billion mainly driven by operating losses at Airtel', 'Geometry': {'BoundingBox': {'Width': 0.4613800048828125, 'Height': 0.043241631239652634, 'Left': 0.5124481916427612, 'Top': 0.4397122859954834}, 'Polygon': [{'X': 0.5124481916427612, 'Y': 0.4397122859954834}, {'X': 0.9738281965255737, 'Y': 0.4397122859954834}, {'X': 0.9738281965255737, 'Y': 0.4829539358615875}, {'X': 0.5124481916427612, 'Y': 0.4829539358615875}]}, 'Id': '9d7b6925-5b20-46e6-bfd6-de30be2b8984', 'Relationships': [{'Type': 'CHILD', 'Ids': ['fe497369-686a-4322-8bbe-8c7bc870d7bd', 'f2ca1e20-b783-49a4-a8d2-2c28f6bd08ac', '3e574930-4afe-4deb-a23f-0738d5d47abb', 'f36de8a0-2126-40ae-b53b-f612ffff5568', '32fa67ef-6a54-4303-8cb3-f8a1f3fc1e97', '52a77c5c-4d85-46cb-ba84-73533e79834c', '6c9a9a93-fa48-4ca0-ab45-8fa12df83d17', '4b8f5f09-3630-41b1-a4b1-7496ef3066b6', 'f672ac9b-963b-4d18-8791-18d2e4ba8683', 'b7a8a05e-5389-45ec-85d4-17d3a3eac790']}]}, {'BlockType': 'LINE', 'Confidence': 99.77137756347656, 'Text': 'challenging conditions and gained market share in mobile', 'Geometry': {'BoundingBox': {'Width': 0.4671356976032257, 'Height': 0.04387238994240761, 'Left': 0.01685313694179058, 'Top': 0.4918535053730011}, 'Polygon': [{'X': 0.01685313694179058, 'Y': 0.4918535053730011}, {'X': 0.48398882150650024, 'Y': 0.4918535053730011}, {'X': 0.48398882150650024, 'Y': 0.5357258915901184}, {'X': 0.01685313694179058, 'Y': 0.5357258915901184}]}, 'Id': 'c04f4903-5505-4339-ab6b-9fb3221ed308', 'Relationships': [{'Type': 'CHILD', 'Ids': ['b4673915-d1c7-407a-bd5a-d2ba6583bc3e', 'c50fe820-45d2-4259-ad4c-e0957ccd7795', '3117dbda-4857-4b54-84be-4ba82e45d6e0', 'da2beba0-b1fa-48fd-a69e-8b5a8fb61294', '4274a498-b685-4865-9cae-ce9707d0aa99', '3d381f73-cb15-458d-b9ab-872a903ffb5e', '7c9cc104-7cc5-4c65-b479-65e64583fe92', 'd07e30c9-642f-4825-9cf4-c9f773bde177']}]}, {'BlockType': 'LINE', 'Confidence': 99.75096130371094, 'Text': 'and lower contribution from Telkomsel amid aggressive', 'Geometry': {'BoundingBox': {'Width': 0.44460350275039673, 'Height': 0.043388016521930695, 'Left': 0.512698233127594, 'Top': 0.48955172300338745}, 'Polygon': [{'X': 0.512698233127594, 'Y': 0.48955172300338745}, {'X': 0.9573017358779907, 'Y': 0.48955172300338745}, {'X': 0.9573017358779907, 'Y': 0.5329397320747375}, {'X': 0.512698233127594, 'Y': 0.5329397320747375}]}, 'Id': '2f871a8e-458d-4921-bd85-17ad6a43fa97', 'Relationships': [{'Type': 'CHILD', 'Ids': ['f059b374-5457-4725-8ef9-b7f1a932f40a', '2c30ad09-2a60-4e5a-bec0-57fedeb4e749', 'fa11dcfc-a06c-4864-9a34-7f780fd490c9', '696bfdae-aaaf-4161-b262-be451b6b6e81', '2850aa45-ed35-4ade-90bd-2d6cf34b5fba', 'd6bf2723-df3c-43f1-9d20-f4dc1a68c620', '71393a36-61d0-4ee6-9439-48f98c05b88b']}]}, {'BlockType': 'LINE', 'Confidence': 98.85980224609375, 'Text': 'across both Singapore and Australia. Operating revenue', 'Geometry': {'BoundingBox': {'Width': 0.4544323682785034, 'Height': 0.04383990913629532, 'Left': 0.01695263758301735, 'Top': 0.5423441529273987}, 'Polygon': [{'X': 0.01695263758301735, 'Y': 0.5423441529273987}, {'X': 0.47138500213623047, 'Y': 0.5423441529273987}, {'X': 0.47138500213623047, 'Y': 0.5861840844154358}, {'X': 0.01695263758301735, 'Y': 0.5861840844154358}]}, 'Id': 'c679ccf4-09a0-45f4-a58d-7f857636d669', 'Relationships': [{'Type': 'CHILD', 'Ids': ['dde2b330-91a0-4b1f-8b91-a7a794d10145', 'd0f7d92d-2824-46d3-b49f-ab46bb7943d4', 'e013bf41-b974-4e99-9200-1ada27ec8623', '454bc1c0-f1db-4895-b540-0f75b9fd2352', '927bde4f-2898-4ebb-9dba-41070e1bbe14', '8818d22c-d1ee-44f6-b7fc-a0ed47822ebd', '73243a80-f2de-4e2e-ae92-1fdd231c763c']}]}, {'BlockType': 'LINE', 'Confidence': 97.10768127441406, 'Text': 'price competition in India and Indonesig. The decline was', 'Geometry': {'BoundingBox': {'Width': 0.4610348045825958, 'Height': 0.04352831095457077, 'Left': 0.5130714774131775, 'Top': 0.5416061878204346}, 'Polygon': [{'X': 0.5130714774131775, 'Y': 0.5416061878204346}, {'X': 0.9741063117980957, 'Y': 0.5416061878204346}, {'X': 0.9741063117980957, 'Y': 0.5851345062255859}, {'X': 0.5130714774131775, 'Y': 0.5851345062255859}]}, 'Id': '615e5565-a531-4d87-aec2-fc5515da4cc2', 'Relationships': [{'Type': 'CHILD', 'Ids': ['df6bf91d-fa50-44f6-ac7d-c55563853084', '3c1a7290-36f7-4bf5-8541-0b3e6359210d', '13bfb54f-66ce-4f7e-ab18-486d98617f79', '5ec58059-ace9-4fa1-a959-e1c6c978d44a', 'c648edce-6306-4454-9a62-8b0b260d7158', '53f0156d-5847-46ce-ac6b-ede37e22df85', 'ed6f3387-49f1-4bef-a8e5-274ba93da03b', 'd1e6d95c-308b-4234-b6f1-6b65faa78480', 'd0f2d419-763c-439a-8914-9989e7695b7e']}]}, {'BlockType': 'LINE', 'Confidence': 98.5275650024414, 'Text': 'was stable at S$17.37 billion while EBITDA declined 7.1%', 'Geometry': {'BoundingBox': {'Width': 0.4351312518119812, 'Height': 0.036451905965805054, 'Left': 0.016424302011728287, 'Top': 0.5941737294197083}, 'Polygon': [{'X': 0.016424302011728287, 'Y': 0.5941737294197083}, {'X': 0.4515555500984192, 'Y': 0.5941737294197083}, {'X': 0.4515555500984192, 'Y': 0.6306256055831909}, {'X': 0.016424302011728287, 'Y': 0.6306256055831909}]}, 'Id': '34b56e8c-df89-43ca-815d-b216829285a7', 'Relationships': [{'Type': 'CHILD', 'Ids': ['b06f0e98-e9a2-47b2-bd4a-a205a9643709', '45f03a63-92f7-421d-b2ca-5c9537bfcf17', 'a23fd7b8-6ba0-43fa-a252-34183e83eaa0', '9f17fb00-a411-456b-96e1-47a2e1142275', 'f9a9371a-18e8-4c08-8c43-724dc2eae734', '6af166f3-a155-4638-9fe8-a378f13bc01d', '5903b4b9-4ba7-480b-9a58-b6016f59eedd', '7903c1cc-d3ff-4e1e-80fe-0fcae50c54db', '9e1ae556-f2bf-466f-ba56-d427e26f9ac7']}]}, {'BlockType': 'LINE', 'Confidence': 98.34115600585938, 'Text': 'partly mitigated by double-digit profit growth at Globe', 'Geometry': {'BoundingBox': {'Width': 0.4407690763473511, 'Height': 0.0435299277305603, 'Left': 0.5131788849830627, 'Top': 0.5951941013336182}, 'Polygon': [{'X': 0.5131788849830627, 'Y': 0.5951941013336182}, {'X': 0.9539479613304138, 'Y': 0.5951941013336182}, {'X': 0.9539479613304138, 'Y': 0.6387240290641785}, {'X': 0.5131788849830627, 'Y': 0.6387240290641785}]}, 'Id': '5eeeb258-d79e-4767-9568-0e0095dbdce4', 'Relationships': [{'Type': 'CHILD', 'Ids': ['2b4b5895-f9b6-4a29-862a-5119ad0f2171', '6f1ee8b6-fdc5-4a71-9a61-57de1e946a17', 'e9851dbe-a43a-4f2b-baaa-9efb82d58451', '42a9b89f-5cb2-4a5e-a200-971f8c17fb1e', 'd9e2dc2d-f372-4b7e-8c8d-3756d4d4df84', '7c978c24-af50-431b-bf7b-8265f1155d37', '452f1b6c-8ff3-45b8-a588-a6af803dcd75', 'c7eb9b5e-6c6c-4c39-a88e-3cad12e7e1f8']}]}, {'BlockType': 'LINE', 'Confidence': 95.38475036621094, 'Text': 'to S$4.69 billion due partly to a 6% depreciation in the', 'Geometry': {'BoundingBox': {'Width': 0.43041104078292847, 'Height': 0.04414812847971916, 'Left': 0.016760369762778282, 'Top': 0.6473541855812073}, 'Polygon': [{'X': 0.016760369762778282, 'Y': 0.6473541855812073}, {'X': 0.4471714198589325, 'Y': 0.6473541855812073}, {'X': 0.4471714198589325, 'Y': 0.6915023326873779}, {'X': 0.016760369762778282, 'Y': 0.6915023326873779}]}, 'Id': '4e725e41-88a0-4fc3-bcec-9009c63cabe0', 'Relationships': [{'Type': 'CHILD', 'Ids': ['0c78fa50-1300-411a-9058-ad1b95753991', '7914963c-02fb-4d0e-87e1-0b16709a572f', '52b08597-41df-413b-b218-26a8ed615b35', '75259d7c-1bed-4e28-a5de-71c609595062', '9837d1ae-ee50-4532-8f03-39c93197ede0', '471ef7eb-0a93-4fef-b8f4-6ceaf034b048', '7a6729b5-19cc-4f38-9d45-96fec3966bab', '9d4ada2e-5b1e-48c7-a8c0-5ac3fbdb5cc9', '03628b1d-a5f6-49b4-bf05-0830165a3711', 'fd2dc21d-1660-4d6f-adea-21365dccc150', 'eeab6045-dd4c-4995-b523-f61372239c14']}]}, {'BlockType': 'LINE', 'Confidence': 97.69786071777344, 'Text': 'with robust revenue growth in mobile and broadband', 'Geometry': {'BoundingBox': {'Width': 0.4345589876174927, 'Height': 0.04417591542005539, 'Left': 0.5122227668762207, 'Top': 0.644504189491272}, 'Polygon': [{'X': 0.5122227668762207, 'Y': 0.644504189491272}, {'X': 0.9467817544937134, 'Y': 0.644504189491272}, {'X': 0.9467817544937134, 'Y': 0.688680112361908}, {'X': 0.5122227668762207, 'Y': 0.688680112361908}]}, 'Id': '770fbc37-d23c-4b1a-99d0-a68dd3e04df9', 'Relationships': [{'Type': 'CHILD', 'Ids': ['e3c4bc7d-71ef-4d67-8952-e8cf027cc664', 'cb827cf9-45ed-4fda-a2d0-caa93240beca', '77655b25-024c-4ae1-9e98-462d26e6281e', '269bfbef-9826-4f66-b220-3247e4d13062', '846fbeaf-1b69-4920-b7ee-daf7b09ae9f5', '61b8e4f7-83ea-4ba3-94c5-95c9bc3e71e9', '60cc556e-48d2-47f8-82c7-12a22b4990fa', '1b78f607-a602-4984-9ca0-15eed3835f16']}]}, {'BlockType': 'LINE', 'Confidence': 99.27851867675781, 'Text': 'Australian Dollar. In constant currency terms, operating', 'Geometry': {'BoundingBox': {'Width': 0.44368869066238403, 'Height': 0.04232913255691528, 'Left': 0.016308078542351723, 'Top': 0.6977274417877197}, 'Polygon': [{'X': 0.016308078542351723, 'Y': 0.6977274417877197}, {'X': 0.45999675989151, 'Y': 0.6977274417877197}, {'X': 0.45999675989151, 'Y': 0.740056574344635}, {'X': 0.016308078542351723, 'Y': 0.740056574344635}]}, 'Id': '1e925fd2-4312-40ea-93ce-5013efb4d774', 'Relationships': [{'Type': 'CHILD', 'Ids': ['0ef0ccea-b0c8-407c-924d-5424af97e9a2', 'ff2f6a6b-e8e1-4395-8810-47b810ece683', '30e95b87-6fb8-4d47-b493-05750e34a97e', '24b28654-86a9-4c75-ad0d-620354354221', '3665fa7b-2013-4dfd-928a-90ceb28b0b60', '3eb87c6c-49c4-4a48-a879-22e3acdd035a', '564c4b8a-8696-46cc-91db-e0cab2d92290']}]}, {'BlockType': 'LINE', 'Confidence': 97.37248992919922, 'Text': 'revenue grew 3.7% driven mainly by increases in ICT,', 'Geometry': {'BoundingBox': {'Width': 0.4198901355266571, 'Height': 0.0434885248541832, 'Left': 0.0168130062520504, 'Top': 0.7503672242164612}, 'Polygon': [{'X': 0.0168130062520504, 'Y': 0.7503672242164612}, {'X': 0.4367031455039978, 'Y': 0.7503672242164612}, {'X': 0.4367031455039978, 'Y': 0.7938557267189026}, {'X': 0.0168130062520504, 'Y': 0.7938557267189026}]}, 'Id': '96348d0f-158a-449e-989a-b1f990d19729', 'Relationships': [{'Type': 'CHILD', 'Ids': ['94d09a6c-98b6-4a64-9db6-63e24a5a11d3', '8ef85007-c462-40f2-b6aa-2dff6fcfa552', '7b2f5892-d2b8-44b6-8bd1-7b5ec844c771', 'a5d46eec-d9b6-4504-8984-1dc595835202', '82b75948-7626-4451-9373-d34d374b9064', '03f75a7d-023b-4d5f-af80-2843d9d8ba63', 'e8871286-9ace-4937-8b69-546c7ff2bd0e', '7bdd25b6-aa47-4ac2-a5fd-0f7a730c5e8a', 'ac871b5f-f991-4c7f-bf41-dd8524507dbc']}]}, {'BlockType': 'LINE', 'Confidence': 99.69062805175781, 'Text': 'With lower contributions from the associates, underlying', 'Geometry': {'BoundingBox': {'Width': 0.44969335198402405, 'Height': 0.04379214346408844, 'Left': 0.5123572945594788, 'Top': 0.7499402165412903}, 'Polygon': [{'X': 0.5123572945594788, 'Y': 0.7499402165412903}, {'X': 0.9620506763458252, 'Y': 0.7499402165412903}, {'X': 0.9620506763458252, 'Y': 0.7937323451042175}, {'X': 0.5123572945594788, 'Y': 0.7937323451042175}]}, 'Id': '643722fe-2235-441c-9225-4366c7ada242', 'Relationships': [{'Type': 'CHILD', 'Ids': ['4972108d-5f13-4b22-bced-e812710642dc', 'f8f3acd0-b502-4ffd-8151-ee781d62d195', '7aa6b17e-d95b-4dcb-bc92-b244a71b2d0e', '46cfbf4d-4b07-4111-a57a-6bc2508c5ca3', '4c745261-38ff-45b9-bb23-26594a08d820', 'b49ec0c5-a773-431a-821b-8d33c170539f', '60a38723-2961-45d0-a5b3-7d9f9113827b']}]}, {'BlockType': 'LINE', 'Confidence': 98.94275665283203, 'Text': 'digita services and equipment sales. However, EBITDA', 'Geometry': {'BoundingBox': {'Width': 0.43933385610580444, 'Height': 0.043208375573158264, 'Left': 0.01698330231010914, 'Top': 0.8032556176185608}, 'Polygon': [{'X': 0.01698330231010914, 'Y': 0.8032556176185608}, {'X': 0.45631715655326843, 'Y': 0.8032556176185608}, {'X': 0.45631715655326843, 'Y': 0.8464639782905579}, {'X': 0.01698330231010914, 'Y': 0.8464639782905579}]}, 'Id': '26e0044e-104f-4cb8-847a-f8da21608b3f', 'Relationships': [{'Type': 'CHILD', 'Ids': ['cf1bd6da-2d7d-43c2-8556-837b8e4489ab', '384d4df5-c0a1-4204-ba34-8d51e2f0fa75', 'f85cfa9c-e104-4ff8-91b6-2c252fd1dc8e', '852cbd82-8d4a-4902-8449-3ec268b4575a', 'aa4141bc-27be-46e6-a305-aecf28b8112e', '435fc739-edf9-468b-9881-b351a4cff94b', '5c5e1ffd-7287-4bb9-87cc-5172fc61f601']}]}, {'BlockType': 'LINE', 'Confidence': 97.53081512451172, 'Text': 'net profit declined by 21%. Net profit was S$3.10 billion,', 'Geometry': {'BoundingBox': {'Width': 0.4307796359062195, 'Height': 0.04298466444015503, 'Left': 0.5131197571754456, 'Top': 0.8002248406410217}, 'Polygon': [{'X': 0.5131197571754456, 'Y': 0.8002248406410217}, {'X': 0.943899393081665, 'Y': 0.8002248406410217}, {'X': 0.943899393081665, 'Y': 0.8432095050811768}, {'X': 0.5131197571754456, 'Y': 0.8432095050811768}]}, 'Id': '6ddbe013-06a4-4678-80ce-7242c9328034', 'Relationships': [{'Type': 'CHILD', 'Ids': ['79e46018-f19c-4ec0-a9c4-97676b0c0201', 'b724ed03-c90e-4248-a406-aafd183c9372', '2ecd97f2-d3ce-4888-9121-df56ab09442c', 'c37df2ae-0d82-4c6e-bf72-86dadc163b94', '077942c9-f1c1-48d8-b80e-6136dd2ba543', '6913c5b6-54aa-461f-9b02-b36023ca4a91', '84fbe61d-995b-4f0e-ab7a-7eaabe97e088', 'e8eb6f61-1603-4a10-b862-8edde1c3dde1', 'bce03da7-3049-4b81-956c-0c2253e951e7', 'f1c913f1-a0c6-49dd-9f14-c580b4c3e667']}]}, {'BlockType': 'LINE', 'Confidence': 99.52290344238281, 'Text': 'was down 3.9% mainly due to lower legacy carriage', 'Geometry': {'BoundingBox': {'Width': 0.4158158004283905, 'Height': 0.04328399896621704, 'Left': 0.016350924968719482, 'Top': 0.852907657623291}, 'Polygon': [{'X': 0.016350924968719482, 'Y': 0.852907657623291}, {'X': 0.43216672539711, 'Y': 0.852907657623291}, {'X': 0.43216672539711, 'Y': 0.8961916565895081}, {'X': 0.016350924968719482, 'Y': 0.8961916565895081}]}, 'Id': 'fd546c4d-441c-419f-a1ed-f38dca3a9d1c', 'Relationships': [{'Type': 'CHILD', 'Ids': ['8f62e47a-685c-4e13-8779-0d8a13ba7533', '502ffc23-3729-413a-bf4c-a2cc47111031', '5e09a546-df84-412f-9fb2-20386133def9', '6fff319a-ac2a-48f4-858b-f53542b1f053', 'aa736274-c1b1-4545-b6d5-77daa7246d8d', '0bd4d0be-db7b-4ab2-95cb-7922fc71dc4c', 'b12f941d-7a59-41e9-8ad4-218f0e12568b', 'b70aa4b3-e96e-4631-9fc6-044cebd9cf8a', 'e35d6afc-3627-42dc-8f08-230d8c4e287e']}]}, {'BlockType': 'LINE', 'Confidence': 96.95413208007812, 'Text': 'down 44% from FY 2018 which included an exceptional', 'Geometry': {'BoundingBox': {'Width': 0.4360729455947876, 'Height': 0.04278981685638428, 'Left': 0.512860894203186, 'Top': 0.8523427844047546}, 'Polygon': [{'X': 0.512860894203186, 'Y': 0.8523427844047546}, {'X': 0.9489338397979736, 'Y': 0.8523427844047546}, {'X': 0.9489338397979736, 'Y': 0.8951326012611389}, {'X': 0.512860894203186, 'Y': 0.8951326012611389}]}, 'Id': 'e44f5034-c15b-440c-896d-a9b988eea70b', 'Relationships': [{'Type': 'CHILD', 'Ids': ['ad062d05-676a-448c-b21a-367faab90ccd', '21cae79e-2a08-409f-8992-cbeb4d9c8c66', 'c0b04d30-13b8-4488-bd37-69cc9dd157a7', '6b02225c-52bd-497d-b7d2-8efe9c9029c5', 'b0c8489b-1bea-4f00-acf1-1cea8c77d9fe', '57458eb8-322a-4221-800d-1d28e3be8611', '8c93d0da-9dc6-49e4-b4a2-60462957c775', '16912bc5-eaab-472e-851d-0e45cb7b214d', 'c9d51836-7713-47cd-b484-727ed1283a3b']}]}, {'BlockType': 'LINE', 'Confidence': 98.23566436767578, 'Text': 'services especially voice, and price erosion.', 'Geometry': {'BoundingBox': {'Width': 0.34716683626174927, 'Height': 0.04262262582778931, 'Left': 0.01697070337831974, 'Top': 0.9060302972793579}, 'Polygon': [{'X': 0.01697070337831974, 'Y': 0.9060302972793579}, {'X': 0.36413753032684326, 'Y': 0.9060302972793579}, {'X': 0.36413753032684326, 'Y': 0.9486529231071472}, {'X': 0.01697070337831974, 'Y': 0.9486529231071472}]}, 'Id': '081005cb-f32b-4364-af5e-0e21064f46fc', 'Relationships': [{'Type': 'CHILD', 'Ids': ['86c230cd-2490-4661-b60d-ccb1c7aa9fbb', 'fd6217a0-568d-4a6e-8977-ed5b61d508de', '2304551b-0d58-4dfd-9f9b-dabbb2f6f430', '26857798-a0a4-432e-b066-23688e44c648', '5aa02f98-693e-4734-a275-1133f3d5b63d', 'ec7a72db-4dda-43a4-a1e9-dd0ed322e1c8']}]}, {'BlockType': 'LINE', 'Confidence': 99.51950073242188, 'Text': 'gain from the divestment of units in NetLink Trust.', 'Geometry': {'BoundingBox': {'Width': 0.3923614025115967, 'Height': 0.04348399117588997, 'Left': 0.5126543045043945, 'Top': 0.9057952761650085}, 'Polygon': [{'X': 0.5126543045043945, 'Y': 0.9057952761650085}, {'X': 0.9050157070159912, 'Y': 0.9057952761650085}, {'X': 0.9050157070159912, 'Y': 0.9492793083190918}, {'X': 0.5126543045043945, 'Y': 0.9492793083190918}]}, 'Id': 'd8ecbd86-0faf-4eee-ada1-4630d34740cf', 'Relationships': [{'Type': 'CHILD', 'Ids': ['2e3fd252-a6d6-4095-9156-1e60c663ea0f', 'ff454554-ab68-404b-8b34-d6fa91f1ea6b', '56e8fade-8279-47b4-b583-3f27818ead93', 'aae166ac-02aa-4ad1-83ef-5309ad695e7d', '8a30d412-fffe-45d2-a014-288d851c1a8d', '8f3976a5-03c3-4253-aeff-5c6d47bc769a', '788c7453-2695-4cce-828c-41bd53995171', '538ff51a-4821-47b7-92a8-8ee4fd3d89d2', '2f313707-1d09-4190-8755-9884b8d8a792']}]}, {'BlockType': 'WORD', 'Confidence': 99.94939422607422, 'Text': 'Group', 'Geometry': {'BoundingBox': {'Width': 0.13082319498062134, 'Height': 0.09532931447029114, 'Left': 0.016691982746124268, 'Top': 0.01127716340124607}, 'Polygon': [{'X': 0.016691982746124268, 'Y': 0.01127716340124607}, {'X': 0.1475151777267456, 'Y': 0.01127716340124607}, {'X': 0.1475151777267456, 'Y': 0.10660647600889206}, {'X': 0.016691982746124268, 'Y': 0.10660647600889206}]}, 'Id': '0e2f992a-1240-49f5-84d2-2bdfd4335a1f'}, {'BlockType': 'WORD', 'Confidence': 99.67916870117188, 'Text': 'Five-year', 'Geometry': {'BoundingBox': {'Width': 0.18988001346588135, 'Height': 0.09391550719738007, 'Left': 0.15995335578918457, 'Top': 0.014133471064269543}, 'Polygon': [{'X': 0.15995335578918457, 'Y': 0.014133471064269543}, {'X': 0.3498333692550659, 'Y': 0.014133471064269543}, {'X': 0.3498333692550659, 'Y': 0.10804897546768188}, {'X': 0.15995335578918457, 'Y': 0.10804897546768188}]}, 'Id': '811450b8-c0d8-4ed9-8941-764c9d63284d'}, {'BlockType': 'WORD', 'Confidence': 99.83999633789062, 'Text': 'Financial', 'Geometry': {'BoundingBox': {'Width': 0.181571826338768, 'Height': 0.07675254344940186, 'Left': 0.0186894703656435, 'Top': 0.118177130818367}, 'Polygon': [{'X': 0.0186894703656435, 'Y': 0.118177130818367}, {'X': 0.20026129484176636, 'Y': 0.118177130818367}, {'X': 0.20026129484176636, 'Y': 0.19492967426776886}, {'X': 0.0186894703656435, 'Y': 0.19492967426776886}]}, 'Id': '488ff097-f182-43b2-b7fd-6f97b528c554'}, {'BlockType': 'WORD', 'Confidence': 99.86910247802734, 'Text': 'Summary', 'Geometry': {'BoundingBox': {'Width': 0.1936873495578766, 'Height': 0.09507334977388382, 'Left': 0.21157968044281006, 'Top': 0.12057811766862869}, 'Polygon': [{'X': 0.21157968044281006, 'Y': 0.12057811766862869}, {'X': 0.40526703000068665, 'Y': 0.12057811766862869}, {'X': 0.40526703000068665, 'Y': 0.2156514674425125}, {'X': 0.21157968044281006, 'Y': 0.2156514674425125}]}, 'Id': '28b6843a-e4db-4ff5-b2e5-f97afeb4101d'}, {'BlockType': 'WORD', 'Confidence': 99.64646911621094, 'Text': 'FIVE-YEAR', 'Geometry': {'BoundingBox': {'Width': 0.09171104431152344, 'Height': 0.0339462086558342, 'Left': 0.01786760613322258, 'Top': 0.28506484627723694}, 'Polygon': [{'X': 0.01786760613322258, 'Y': 0.28506484627723694}, {'X': 0.10957865417003632, 'Y': 0.28506484627723694}, {'X': 0.10957865417003632, 'Y': 0.31901106238365173}, {'X': 0.01786760613322258, 'Y': 0.31901106238365173}]}, 'Id': '76aa61ab-bd38-4cf9-b2c9-e9dda7bb5fd0'}, {'BlockType': 'WORD', 'Confidence': 99.70018005371094, 'Text': 'FINANCIAL', 'Geometry': {'BoundingBox': {'Width': 0.09464714676141739, 'Height': 0.03400123119354248, 'Left': 0.11365730315446854, 'Top': 0.28502172231674194}, 'Polygon': [{'X': 0.11365730315446854, 'Y': 0.28502172231674194}, {'X': 0.20830444991588593, 'Y': 0.28502172231674194}, {'X': 0.20830444991588593, 'Y': 0.3190229535102844}, {'X': 0.11365730315446854, 'Y': 0.3190229535102844}]}, 'Id': 'db716262-b436-487e-a693-5c26c07e11bb'}, {'BlockType': 'WORD', 'Confidence': 99.63784790039062, 'Text': 'REVIEW', 'Geometry': {'BoundingBox': {'Width': 0.06791236996650696, 'Height': 0.034607429057359695, 'Left': 0.21132802963256836, 'Top': 0.2848966717720032}, 'Polygon': [{'X': 0.21132802963256836, 'Y': 0.2848966717720032}, {'X': 0.2792403995990753, 'Y': 0.2848966717720032}, {'X': 0.2792403995990753, 'Y': 0.31950411200523376}, {'X': 0.21132802963256836, 'Y': 0.31950411200523376}]}, 'Id': 'a6200e9b-cf87-47bf-b007-68930f42940d'}, {'BlockType': 'WORD', 'Confidence': 99.60809326171875, 'Text': 'FY', 'Geometry': {'BoundingBox': {'Width': 0.022790996357798576, 'Height': 0.03368629887700081, 'Left': 0.01738334260880947, 'Top': 0.3881956934928894}, 'Polygon': [{'X': 0.01738334260880947, 'Y': 0.3881956934928894}, {'X': 0.04017433896660805, 'Y': 0.3881956934928894}, {'X': 0.04017433896660805, 'Y': 0.4218820035457611}, {'X': 0.01738334260880947, 'Y': 0.4218820035457611}]}, 'Id': 'a83f2902-cba6-4643-8bc3-185f998147d3'}, {'BlockType': 'WORD', 'Confidence': 99.8416976928711, 'Text': '2019', 'Geometry': {'BoundingBox': {'Width': 0.039567772299051285, 'Height': 0.03405049815773964, 'Left': 0.04224370792508125, 'Top': 0.38853058218955994}, 'Polygon': [{'X': 0.04224370792508125, 'Y': 0.38853058218955994}, {'X': 0.08181148022413254, 'Y': 0.38853058218955994}, {'X': 0.08181148022413254, 'Y': 0.4225810766220093}, {'X': 0.04224370792508125, 'Y': 0.4225810766220093}]}, 'Id': 'df3c8775-4de5-4ba0-b5a4-15b42f27e4de'}, {'BlockType': 'WORD', 'Confidence': 99.54258728027344, 'Text': 'The', 'Geometry': {'BoundingBox': {'Width': 0.03126974031329155, 'Height': 0.03356286138296127, 'Left': 0.5123968124389648, 'Top': 0.3880699872970581}, 'Polygon': [{'X': 0.5123968124389648, 'Y': 0.3880699872970581}, {'X': 0.5436665415763855, 'Y': 0.3880699872970581}, {'X': 0.5436665415763855, 'Y': 0.4216328561306}, {'X': 0.5123968124389648, 'Y': 0.4216328561306}]}, 'Id': '113567ce-bbbb-4b7b-a777-f7c15d77c418'}, {'BlockType': 'WORD', 'Confidence': 99.1427001953125, 'Text': \"associates'\", 'Geometry': {'BoundingBox': {'Width': 0.08872489631175995, 'Height': 0.03542860969901085, 'Left': 0.5475810170173645, 'Top': 0.38749071955680847}, 'Polygon': [{'X': 0.5475810170173645, 'Y': 0.38749071955680847}, {'X': 0.6363059282302856, 'Y': 0.38749071955680847}, {'X': 0.6363059282302856, 'Y': 0.4229193329811096}, {'X': 0.5475810170173645, 'Y': 0.4229193329811096}]}, 'Id': '197f6c38-e118-4945-be92-ea7703967eef'}, {'BlockType': 'WORD', 'Confidence': 96.5682373046875, 'Text': 'pre-tax', 'Geometry': {'BoundingBox': {'Width': 0.0616198405623436, 'Height': 0.03933120146393776, 'Left': 0.638795018196106, 'Top': 0.38979190587997437}, 'Polygon': [{'X': 0.638795018196106, 'Y': 0.38979190587997437}, {'X': 0.7004148364067078, 'Y': 0.38979190587997437}, {'X': 0.7004148364067078, 'Y': 0.4291231036186218}, {'X': 0.638795018196106, 'Y': 0.4291231036186218}]}, 'Id': '96bbeb1c-9a0d-4df6-aa37-3e4fcd01ba3b'}, {'BlockType': 'WORD', 'Confidence': 99.87173461914062, 'Text': 'contributions', 'Geometry': {'BoundingBox': {'Width': 0.10516136139631271, 'Height': 0.03451048955321312, 'Left': 0.7027252912521362, 'Top': 0.38788866996765137}, 'Polygon': [{'X': 0.7027252912521362, 'Y': 0.38788866996765137}, {'X': 0.8078866600990295, 'Y': 0.38788866996765137}, {'X': 0.8078866600990295, 'Y': 0.4223991632461548}, {'X': 0.7027252912521362, 'Y': 0.4223991632461548}]}, 'Id': '3db9e419-1d55-4d6a-91e6-6d4c53607e98'}, {'BlockType': 'WORD', 'Confidence': 99.89604949951172, 'Text': 'declined', 'Geometry': {'BoundingBox': {'Width': 0.07012079656124115, 'Height': 0.034788038581609726, 'Left': 0.8116065263748169, 'Top': 0.3878096640110016}, 'Polygon': [{'X': 0.8116065263748169, 'Y': 0.3878096640110016}, {'X': 0.8817272782325745, 'Y': 0.3878096640110016}, {'X': 0.8817272782325745, 'Y': 0.4225977063179016}, {'X': 0.8116065263748169, 'Y': 0.4225977063179016}]}, 'Id': 'bb7225a8-aa15-44dc-8764-db306f9caad5'}, {'BlockType': 'WORD', 'Confidence': 57.48802947998047, 'Text': 'a', 'Geometry': {'BoundingBox': {'Width': 0.012057400308549404, 'Height': 0.02581747993826866, 'Left': 0.8852230906486511, 'Top': 0.39553526043891907}, 'Polygon': [{'X': 0.8852230906486511, 'Y': 0.39553526043891907}, {'X': 0.8972805142402649, 'Y': 0.39553526043891907}, {'X': 0.8972805142402649, 'Y': 0.421352744102478}, {'X': 0.8852230906486511, 'Y': 0.421352744102478}]}, 'Id': 'ec860424-c8df-4c16-8a2b-a7b10623ca05'}, {'BlockType': 'WORD', 'Confidence': 90.825439453125, 'Text': 'steep', 'Geometry': {'BoundingBox': {'Width': 0.04429585114121437, 'Height': 0.04021809995174408, 'Left': 0.9007529020309448, 'Top': 0.3890751004219055}, 'Polygon': [{'X': 0.9007529020309448, 'Y': 0.3890751004219055}, {'X': 0.9450487494468689, 'Y': 0.3890751004219055}, {'X': 0.9450487494468689, 'Y': 0.4292931854724884}, {'X': 0.9007529020309448, 'Y': 0.4292931854724884}]}, 'Id': '8760aed1-b018-47df-8e20-d4fc7d70cd23'}, {'BlockType': 'WORD', 'Confidence': 99.86567687988281, 'Text': '38%', 'Geometry': {'BoundingBox': {'Width': 0.032184798270463943, 'Height': 0.03344634175300598, 'Left': 0.9483236074447632, 'Top': 0.3885916769504547}, 'Polygon': [{'X': 0.9483236074447632, 'Y': 0.3885916769504547}, {'X': 0.9805083870887756, 'Y': 0.3885916769504547}, {'X': 0.9805083870887756, 'Y': 0.4220380187034607}, {'X': 0.9483236074447632, 'Y': 0.4220380187034607}]}, 'Id': 'd240502f-9ad7-4163-af40-df01054d2504'}, {'BlockType': 'WORD', 'Confidence': 99.59101104736328, 'Text': 'The', 'Geometry': {'BoundingBox': {'Width': 0.03166240453720093, 'Height': 0.03442658111453056, 'Left': 0.01627335511147976, 'Top': 0.4401019215583801}, 'Polygon': [{'X': 0.01627335511147976, 'Y': 0.4401019215583801}, {'X': 0.04793575778603554, 'Y': 0.4401019215583801}, {'X': 0.04793575778603554, 'Y': 0.4745284914970398}, {'X': 0.01627335511147976, 'Y': 0.4745284914970398}]}, 'Id': 'd195b3c4-a925-445e-bea9-87d39c41a68c'}, {'BlockType': 'WORD', 'Confidence': 99.92433166503906, 'Text': 'Group', 'Geometry': {'BoundingBox': {'Width': 0.05298662930727005, 'Height': 0.04267759993672371, 'Left': 0.05073576048016548, 'Top': 0.4396648108959198}, 'Polygon': [{'X': 0.05073576048016548, 'Y': 0.4396648108959198}, {'X': 0.10372239351272583, 'Y': 0.4396648108959198}, {'X': 0.10372239351272583, 'Y': 0.482342392206192}, {'X': 0.05073576048016548, 'Y': 0.482342392206192}]}, 'Id': '4821e7b6-55f8-4f9e-b38a-1243681b9e60'}, {'BlockType': 'WORD', 'Confidence': 98.79833984375, 'Text': 'has', 'Geometry': {'BoundingBox': {'Width': 0.03015606477856636, 'Height': 0.03418733924627304, 'Left': 0.10668035596609116, 'Top': 0.4406108558177948}, 'Polygon': [{'X': 0.10668035596609116, 'Y': 0.4406108558177948}, {'X': 0.13683642446994781, 'Y': 0.4406108558177948}, {'X': 0.13683642446994781, 'Y': 0.47479820251464844}, {'X': 0.10668035596609116, 'Y': 0.47479820251464844}]}, 'Id': 'f0c42bf0-c53d-44a2-8db4-2bd1eca17ebc'}, {'BlockType': 'WORD', 'Confidence': 99.9266128540039, 'Text': 'executed', 'Geometry': {'BoundingBox': {'Width': 0.07497622072696686, 'Height': 0.034573979675769806, 'Left': 0.139336496591568, 'Top': 0.44031381607055664}, 'Polygon': [{'X': 0.139336496591568, 'Y': 0.44031381607055664}, {'X': 0.21431271731853485, 'Y': 0.44031381607055664}, {'X': 0.21431271731853485, 'Y': 0.47488778829574585}, {'X': 0.139336496591568, 'Y': 0.47488778829574585}]}, 'Id': '4f0cb611-8b67-4352-81c7-3f783bd2a733'}, {'BlockType': 'WORD', 'Confidence': 99.8663101196289, 'Text': 'well', 'Geometry': {'BoundingBox': {'Width': 0.03346545994281769, 'Height': 0.03454181179404259, 'Left': 0.21692527830600739, 'Top': 0.4398672580718994}, 'Polygon': [{'X': 0.21692527830600739, 'Y': 0.4398672580718994}, {'X': 0.2503907382488251, 'Y': 0.4398672580718994}, {'X': 0.2503907382488251, 'Y': 0.4744090735912323}, {'X': 0.21692527830600739, 'Y': 0.4744090735912323}]}, 'Id': '8693d729-6962-40eb-ae04-a50d299e2572'}, {'BlockType': 'WORD', 'Confidence': 99.65437316894531, 'Text': 'on', 'Geometry': {'BoundingBox': {'Width': 0.021864619106054306, 'Height': 0.026094790548086166, 'Left': 0.2536066174507141, 'Top': 0.4483429789543152}, 'Polygon': [{'X': 0.2536066174507141, 'Y': 0.4483429789543152}, {'X': 0.2754712402820587, 'Y': 0.4483429789543152}, {'X': 0.2754712402820587, 'Y': 0.47443777322769165}, {'X': 0.2536066174507141, 'Y': 0.47443777322769165}]}, 'Id': '5e6ac92a-b452-4e33-9c52-cb096cac1533'}, {'BlockType': 'WORD', 'Confidence': 99.901611328125, 'Text': 'its', 'Geometry': {'BoundingBox': {'Width': 0.018845880404114723, 'Height': 0.03339371085166931, 'Left': 0.2786845564842224, 'Top': 0.4407438337802887}, 'Polygon': [{'X': 0.2786845564842224, 'Y': 0.4407438337802887}, {'X': 0.2975304424762726, 'Y': 0.4407438337802887}, {'X': 0.2975304424762726, 'Y': 0.474137544631958}, {'X': 0.2786845564842224, 'Y': 0.474137544631958}]}, 'Id': '22b2afae-b97d-43c5-9390-a0376942c72b'}, {'BlockType': 'WORD', 'Confidence': 99.84056091308594, 'Text': 'strategy', 'Geometry': {'BoundingBox': {'Width': 0.06710121035575867, 'Height': 0.0400783009827137, 'Left': 0.30037105083465576, 'Top': 0.44247010350227356}, 'Polygon': [{'X': 0.30037105083465576, 'Y': 0.44247010350227356}, {'X': 0.36747226119041443, 'Y': 0.44247010350227356}, {'X': 0.36747226119041443, 'Y': 0.48254838585853577}, {'X': 0.30037105083465576, 'Y': 0.48254838585853577}]}, 'Id': 'a3301a0b-55a4-4332-b699-eda561f68097'}, {'BlockType': 'WORD', 'Confidence': 99.67828369140625, 'Text': 'amid', 'Geometry': {'BoundingBox': {'Width': 0.04282493144273758, 'Height': 0.034914299845695496, 'Left': 0.36992353200912476, 'Top': 0.4404093027114868}, 'Polygon': [{'X': 0.36992353200912476, 'Y': 0.4404093027114868}, {'X': 0.41274845600128174, 'Y': 0.4404093027114868}, {'X': 0.41274845600128174, 'Y': 0.4753235876560211}, {'X': 0.36992353200912476, 'Y': 0.4753235876560211}]}, 'Id': '7d039bbc-7caf-4ce6-a3cf-630db2c281fa'}, {'BlockType': 'WORD', 'Confidence': 99.7379150390625, 'Text': 'to', 'Geometry': {'BoundingBox': {'Width': 0.01709114946424961, 'Height': 0.03095724992454052, 'Left': 0.5124481916427612, 'Top': 0.44287222623825073}, 'Polygon': [{'X': 0.5124481916427612, 'Y': 0.44287222623825073}, {'X': 0.5295393466949463, 'Y': 0.44287222623825073}, {'X': 0.5295393466949463, 'Y': 0.4738294780254364}, {'X': 0.5124481916427612, 'Y': 0.4738294780254364}]}, 'Id': 'fe497369-686a-4322-8bbe-8c7bc870d7bd'}, {'BlockType': 'WORD', 'Confidence': 96.08533477783203, 'Text': 'S$1.54', 'Geometry': {'BoundingBox': {'Width': 0.050324730575084686, 'Height': 0.03491165116429329, 'Left': 0.5329121947288513, 'Top': 0.4405960142612457}, 'Polygon': [{'X': 0.5329121947288513, 'Y': 0.4405960142612457}, {'X': 0.5832369327545166, 'Y': 0.4405960142612457}, {'X': 0.5832369327545166, 'Y': 0.4755076467990875}, {'X': 0.5329121947288513, 'Y': 0.4755076467990875}]}, 'Id': 'f2ca1e20-b783-49a4-a8d2-2c28f6bd08ac'}, {'BlockType': 'WORD', 'Confidence': 99.8731918334961, 'Text': 'billion', 'Geometry': {'BoundingBox': {'Width': 0.04853779077529907, 'Height': 0.03524729982018471, 'Left': 0.5870331525802612, 'Top': 0.4397122859954834}, 'Polygon': [{'X': 0.5870331525802612, 'Y': 0.4397122859954834}, {'X': 0.6355709433555603, 'Y': 0.4397122859954834}, {'X': 0.6355709433555603, 'Y': 0.4749596118927002}, {'X': 0.5870331525802612, 'Y': 0.4749596118927002}]}, 'Id': '3e574930-4afe-4deb-a23f-0738d5d47abb'}, {'BlockType': 'WORD', 'Confidence': 99.86122131347656, 'Text': 'mainly', 'Geometry': {'BoundingBox': {'Width': 0.055352501571178436, 'Height': 0.04180160164833069, 'Left': 0.6386234760284424, 'Top': 0.4403059482574463}, 'Polygon': [{'X': 0.6386234760284424, 'Y': 0.4403059482574463}, {'X': 0.6939759850502014, 'Y': 0.4403059482574463}, {'X': 0.6939759850502014, 'Y': 0.482107549905777}, {'X': 0.6386234760284424, 'Y': 0.482107549905777}]}, 'Id': 'f36de8a0-2126-40ae-b53b-f612ffff5568'}, {'BlockType': 'WORD', 'Confidence': 99.88214874267578, 'Text': 'driven', 'Geometry': {'BoundingBox': {'Width': 0.05177240073680878, 'Height': 0.034044839441776276, 'Left': 0.6967942714691162, 'Top': 0.44016194343566895}, 'Polygon': [{'X': 0.6967942714691162, 'Y': 0.44016194343566895}, {'X': 0.7485666871070862, 'Y': 0.44016194343566895}, {'X': 0.7485666871070862, 'Y': 0.4742067754268646}, {'X': 0.6967942714691162, 'Y': 0.4742067754268646}]}, 'Id': '32fa67ef-6a54-4303-8cb3-f8a1f3fc1e97'}, {'BlockType': 'WORD', 'Confidence': 99.92528533935547, 'Text': 'by', 'Geometry': {'BoundingBox': {'Width': 0.02043467015028, 'Height': 0.04248160123825073, 'Left': 0.752001166343689, 'Top': 0.44008907675743103}, 'Polygon': [{'X': 0.752001166343689, 'Y': 0.44008907675743103}, {'X': 0.7724358439445496, 'Y': 0.44008907675743103}, {'X': 0.7724358439445496, 'Y': 0.48257067799568176}, {'X': 0.752001166343689, 'Y': 0.48257067799568176}]}, 'Id': '52a77c5c-4d85-46cb-ba84-73533e79834c'}, {'BlockType': 'WORD', 'Confidence': 99.37240600585938, 'Text': 'operating', 'Geometry': {'BoundingBox': {'Width': 0.08035042881965637, 'Height': 0.0423910990357399, 'Left': 0.7754582762718201, 'Top': 0.4405628442764282}, 'Polygon': [{'X': 0.7754582762718201, 'Y': 0.4405628442764282}, {'X': 0.8558087348937988, 'Y': 0.4405628442764282}, {'X': 0.8558087348937988, 'Y': 0.4829539358615875}, {'X': 0.7754582762718201, 'Y': 0.4829539358615875}]}, 'Id': '6c9a9a93-fa48-4ca0-ab45-8fa12df83d17'}, {'BlockType': 'WORD', 'Confidence': 99.85904693603516, 'Text': 'losses', 'Geometry': {'BoundingBox': {'Width': 0.048620231449604034, 'Height': 0.035638950765132904, 'Left': 0.8589721322059631, 'Top': 0.43992191553115845}, 'Polygon': [{'X': 0.8589721322059631, 'Y': 0.43992191553115845}, {'X': 0.9075923562049866, 'Y': 0.43992191553115845}, {'X': 0.9075923562049866, 'Y': 0.47556087374687195}, {'X': 0.8589721322059631, 'Y': 0.47556087374687195}]}, 'Id': '4b8f5f09-3630-41b1-a4b1-7496ef3066b6'}, {'BlockType': 'WORD', 'Confidence': 97.20337677001953, 'Text': 'at', 'Geometry': {'BoundingBox': {'Width': 0.018460649996995926, 'Height': 0.03094111941754818, 'Left': 0.9104674458503723, 'Top': 0.44285139441490173}, 'Polygon': [{'X': 0.9104674458503723, 'Y': 0.44285139441490173}, {'X': 0.9289280772209167, 'Y': 0.44285139441490173}, {'X': 0.9289280772209167, 'Y': 0.47379252314567566}, {'X': 0.9104674458503723, 'Y': 0.47379252314567566}]}, 'Id': 'f672ac9b-963b-4d18-8791-18d2e4ba8683'}, {'BlockType': 'WORD', 'Confidence': 99.87211608886719, 'Text': 'Airtel', 'Geometry': {'BoundingBox': {'Width': 0.04280469939112663, 'Height': 0.0349070206284523, 'Left': 0.9310234785079956, 'Top': 0.4398937225341797}, 'Polygon': [{'X': 0.9310234785079956, 'Y': 0.4398937225341797}, {'X': 0.9738281965255737, 'Y': 0.4398937225341797}, {'X': 0.9738281965255737, 'Y': 0.4748007357120514}, {'X': 0.9310234785079956, 'Y': 0.4748007357120514}]}, 'Id': 'b7a8a05e-5389-45ec-85d4-17d3a3eac790'}, {'BlockType': 'WORD', 'Confidence': 99.95431518554688, 'Text': 'challenging', 'Geometry': {'BoundingBox': {'Width': 0.09485440701246262, 'Height': 0.04376089945435524, 'Left': 0.01685313694179058, 'Top': 0.4918535053730011}, 'Polygon': [{'X': 0.01685313694179058, 'Y': 0.4918535053730011}, {'X': 0.11170754581689835, 'Y': 0.4918535053730011}, {'X': 0.11170754581689835, 'Y': 0.5356143712997437}, {'X': 0.01685313694179058, 'Y': 0.5356143712997437}]}, 'Id': 'b4673915-d1c7-407a-bd5a-d2ba6583bc3e'}, {'BlockType': 'WORD', 'Confidence': 99.88750457763672, 'Text': 'conditions', 'Geometry': {'BoundingBox': {'Width': 0.08346643298864365, 'Height': 0.034852899610996246, 'Left': 0.11578845977783203, 'Top': 0.49340489506721497}, 'Polygon': [{'X': 0.11578845977783203, 'Y': 0.49340489506721497}, {'X': 0.19925488531589508, 'Y': 0.49340489506721497}, {'X': 0.19925488531589508, 'Y': 0.5282577872276306}, {'X': 0.11578845977783203, 'Y': 0.5282577872276306}]}, 'Id': 'c50fe820-45d2-4259-ad4c-e0957ccd7795'}, {'BlockType': 'WORD', 'Confidence': 99.49703979492188, 'Text': 'and', 'Geometry': {'BoundingBox': {'Width': 0.033006880432367325, 'Height': 0.03407438099384308, 'Left': 0.2015780508518219, 'Top': 0.49332812428474426}, 'Polygon': [{'X': 0.2015780508518219, 'Y': 0.49332812428474426}, {'X': 0.23458492755889893, 'Y': 0.49332812428474426}, {'X': 0.23458492755889893, 'Y': 0.5274025201797485}, {'X': 0.2015780508518219, 'Y': 0.5274025201797485}]}, 'Id': '3117dbda-4857-4b54-84be-4ba82e45d6e0'}, {'BlockType': 'WORD', 'Confidence': 99.90531158447266, 'Text': 'gained', 'Geometry': {'BoundingBox': {'Width': 0.05802040174603462, 'Height': 0.042514871805906296, 'Left': 0.23736925423145294, 'Top': 0.493211030960083}, 'Polygon': [{'X': 0.23736925423145294, 'Y': 0.493211030960083}, {'X': 0.29538965225219727, 'Y': 0.493211030960083}, {'X': 0.29538965225219727, 'Y': 0.5357258915901184}, {'X': 0.23736925423145294, 'Y': 0.5357258915901184}]}, 'Id': 'da2beba0-b1fa-48fd-a69e-8b5a8fb61294'}, {'BlockType': 'WORD', 'Confidence': 99.775390625, 'Text': 'market', 'Geometry': {'BoundingBox': {'Width': 0.05832028016448021, 'Height': 0.034263160079717636, 'Left': 0.29857781529426575, 'Top': 0.49346956610679626}, 'Polygon': [{'X': 0.29857781529426575, 'Y': 0.49346956610679626}, {'X': 0.35689809918403625, 'Y': 0.49346956610679626}, {'X': 0.35689809918403625, 'Y': 0.5277327299118042}, {'X': 0.29857781529426575, 'Y': 0.5277327299118042}]}, 'Id': '4274a498-b685-4865-9cae-ce9707d0aa99'}, {'BlockType': 'WORD', 'Confidence': 99.65497589111328, 'Text': 'share', 'Geometry': {'BoundingBox': {'Width': 0.04580571874976158, 'Height': 0.036318089812994, 'Left': 0.3601730167865753, 'Top': 0.49247315526008606}, 'Polygon': [{'X': 0.3601730167865753, 'Y': 0.49247315526008606}, {'X': 0.4059787392616272, 'Y': 0.49247315526008606}, {'X': 0.4059787392616272, 'Y': 0.5287912487983704}, {'X': 0.3601730167865753, 'Y': 0.5287912487983704}]}, 'Id': '3d381f73-cb15-458d-b9ab-872a903ffb5e'}, {'BlockType': 'WORD', 'Confidence': 99.63577270507812, 'Text': 'in', 'Geometry': {'BoundingBox': {'Width': 0.015478650107979774, 'Height': 0.034440778195858, 'Left': 0.4090535342693329, 'Top': 0.49294957518577576}, 'Polygon': [{'X': 0.4090535342693329, 'Y': 0.49294957518577576}, {'X': 0.4245321750640869, 'Y': 0.49294957518577576}, {'X': 0.4245321750640869, 'Y': 0.5273903608322144}, {'X': 0.4090535342693329, 'Y': 0.5273903608322144}]}, 'Id': '7c9cc104-7cc5-4c65-b479-65e64583fe92'}, {'BlockType': 'WORD', 'Confidence': 99.86065673828125, 'Text': 'mobile', 'Geometry': {'BoundingBox': {'Width': 0.05621922016143799, 'Height': 0.03346110135316849, 'Left': 0.42776960134506226, 'Top': 0.4937675893306732}, 'Polygon': [{'X': 0.42776960134506226, 'Y': 0.4937675893306732}, {'X': 0.48398882150650024, 'Y': 0.4937675893306732}, {'X': 0.48398882150650024, 'Y': 0.5272287130355835}, {'X': 0.42776960134506226, 'Y': 0.5272287130355835}]}, 'Id': 'd07e30c9-642f-4825-9cf4-c9f773bde177'}, {'BlockType': 'WORD', 'Confidence': 99.47808837890625, 'Text': 'and', 'Geometry': {'BoundingBox': {'Width': 0.03278477117419243, 'Height': 0.034067001193761826, 'Left': 0.512698233127594, 'Top': 0.4904509484767914}, 'Polygon': [{'X': 0.512698233127594, 'Y': 0.4904509484767914}, {'X': 0.5454829931259155, 'Y': 0.4904509484767914}, {'X': 0.5454829931259155, 'Y': 0.5245179533958435}, {'X': 0.512698233127594, 'Y': 0.5245179533958435}]}, 'Id': 'f059b374-5457-4725-8ef9-b7f1a932f40a'}, {'BlockType': 'WORD', 'Confidence': 99.79217529296875, 'Text': 'lower', 'Geometry': {'BoundingBox': {'Width': 0.04602557048201561, 'Height': 0.03497667983174324, 'Left': 0.5489347577095032, 'Top': 0.48955172300338745}, 'Polygon': [{'X': 0.5489347577095032, 'Y': 0.48955172300338745}, {'X': 0.5949603319168091, 'Y': 0.48955172300338745}, {'X': 0.5949603319168091, 'Y': 0.5245283842086792}, {'X': 0.5489347577095032, 'Y': 0.5245283842086792}]}, 'Id': '2c30ad09-2a60-4e5a-bec0-57fedeb4e749'}, {'BlockType': 'WORD', 'Confidence': 99.8287353515625, 'Text': 'contribution', 'Geometry': {'BoundingBox': {'Width': 0.09887105971574783, 'Height': 0.0342690609395504, 'Left': 0.5968078374862671, 'Top': 0.49044349789619446}, 'Polygon': [{'X': 0.5968078374862671, 'Y': 0.49044349789619446}, {'X': 0.6956788897514343, 'Y': 0.49044349789619446}, {'X': 0.6956788897514343, 'Y': 0.5247125625610352}, {'X': 0.5968078374862671, 'Y': 0.5247125625610352}]}, 'Id': 'fa11dcfc-a06c-4864-9a34-7f780fd490c9'}, {'BlockType': 'WORD', 'Confidence': 99.75358581542969, 'Text': 'from', 'Geometry': {'BoundingBox': {'Width': 0.039662040770053864, 'Height': 0.034767501056194305, 'Left': 0.697941780090332, 'Top': 0.4899686872959137}, 'Polygon': [{'X': 0.697941780090332, 'Y': 0.4899686872959137}, {'X': 0.7376038432121277, 'Y': 0.4899686872959137}, {'X': 0.7376038432121277, 'Y': 0.524736225605011}, {'X': 0.697941780090332, 'Y': 0.524736225605011}]}, 'Id': '696bfdae-aaaf-4161-b262-be451b6b6e81'}, {'BlockType': 'WORD', 'Confidence': 99.87371063232422, 'Text': 'Telkomsel', 'Geometry': {'BoundingBox': {'Width': 0.07930111885070801, 'Height': 0.03431478142738342, 'Left': 0.740290641784668, 'Top': 0.48973292112350464}, 'Polygon': [{'X': 0.740290641784668, 'Y': 0.48973292112350464}, {'X': 0.819591760635376, 'Y': 0.48973292112350464}, {'X': 0.819591760635376, 'Y': 0.5240476727485657}, {'X': 0.740290641784668, 'Y': 0.5240476727485657}]}, 'Id': '2850aa45-ed35-4ade-90bd-2d6cf34b5fba'}, {'BlockType': 'WORD', 'Confidence': 99.6868667602539, 'Text': 'amid', 'Geometry': {'BoundingBox': {'Width': 0.04273572936654091, 'Height': 0.03439385071396828, 'Left': 0.8226739764213562, 'Top': 0.49056684970855713}, 'Polygon': [{'X': 0.8226739764213562, 'Y': 0.49056684970855713}, {'X': 0.8654097318649292, 'Y': 0.49056684970855713}, {'X': 0.8654097318649292, 'Y': 0.5249606966972351}, {'X': 0.8226739764213562, 'Y': 0.5249606966972351}]}, 'Id': 'd6bf2723-df3c-43f1-9d20-f4dc1a68c620'}, {'BlockType': 'WORD', 'Confidence': 99.8435287475586, 'Text': 'aggressive', 'Geometry': {'BoundingBox': {'Width': 0.08788806945085526, 'Height': 0.04255010932683945, 'Left': 0.8694137334823608, 'Top': 0.4903896152973175}, 'Polygon': [{'X': 0.8694137334823608, 'Y': 0.4903896152973175}, {'X': 0.9573017954826355, 'Y': 0.4903896152973175}, {'X': 0.9573017954826355, 'Y': 0.5329397320747375}, {'X': 0.8694137334823608, 'Y': 0.5329397320747375}]}, 'Id': '71393a36-61d0-4ee6-9439-48f98c05b88b'}, {'BlockType': 'WORD', 'Confidence': 99.73562622070312, 'Text': 'across', 'Geometry': {'BoundingBox': {'Width': 0.05358578637242317, 'Height': 0.027165770530700684, 'Left': 0.01695263758301735, 'Top': 0.5499610304832458}, 'Polygon': [{'X': 0.01695263758301735, 'Y': 0.5499610304832458}, {'X': 0.07053842395544052, 'Y': 0.5499610304832458}, {'X': 0.07053842395544052, 'Y': 0.5771268010139465}, {'X': 0.01695263758301735, 'Y': 0.5771268010139465}]}, 'Id': 'dde2b330-91a0-4b1f-8b91-a7a794d10145'}, {'BlockType': 'WORD', 'Confidence': 99.89470672607422, 'Text': 'both', 'Geometry': {'BoundingBox': {'Width': 0.03678419440984726, 'Height': 0.03569699823856354, 'Left': 0.07393240183591843, 'Top': 0.5432844161987305}, 'Polygon': [{'X': 0.07393240183591843, 'Y': 0.5432844161987305}, {'X': 0.11071659624576569, 'Y': 0.5432844161987305}, {'X': 0.11071659624576569, 'Y': 0.5789813995361328}, {'X': 0.07393240183591843, 'Y': 0.5789813995361328}]}, 'Id': 'd0f7d92d-2824-46d3-b49f-ab46bb7943d4'}, {'BlockType': 'WORD', 'Confidence': 99.80377197265625, 'Text': 'Singapore', 'Geometry': {'BoundingBox': {'Width': 0.08525400608778, 'Height': 0.04357669875025749, 'Left': 0.11380625516176224, 'Top': 0.5426074266433716}, 'Polygon': [{'X': 0.11380625516176224, 'Y': 0.5426074266433716}, {'X': 0.19906026124954224, 'Y': 0.5426074266433716}, {'X': 0.19906026124954224, 'Y': 0.5861840844154358}, {'X': 0.11380625516176224, 'Y': 0.5861840844154358}]}, 'Id': 'e013bf41-b974-4e99-9200-1ada27ec8623'}, {'BlockType': 'WORD', 'Confidence': 99.64712524414062, 'Text': 'and', 'Geometry': {'BoundingBox': {'Width': 0.0322561115026474, 'Height': 0.034847501665353775, 'Left': 0.2023966759443283, 'Top': 0.5424069166183472}, 'Polygon': [{'X': 0.2023966759443283, 'Y': 0.5424069166183472}, {'X': 0.2346527874469757, 'Y': 0.5424069166183472}, {'X': 0.2346527874469757, 'Y': 0.5772544145584106}, {'X': 0.2023966759443283, 'Y': 0.5772544145584106}]}, 'Id': '454bc1c0-f1db-4895-b540-0f75b9fd2352'}, {'BlockType': 'WORD', 'Confidence': 99.6992416381836, 'Text': 'Australia.', 'Geometry': {'BoundingBox': {'Width': 0.07666414231061935, 'Height': 0.03572645038366318, 'Left': 0.2371971607208252, 'Top': 0.5423441529273987}, 'Polygon': [{'X': 0.2371971607208252, 'Y': 0.5423441529273987}, {'X': 0.31386131048202515, 'Y': 0.5423441529273987}, {'X': 0.31386131048202515, 'Y': 0.5780705809593201}, {'X': 0.2371971607208252, 'Y': 0.5780705809593201}]}, 'Id': '927bde4f-2898-4ebb-9dba-41070e1bbe14'}, {'BlockType': 'WORD', 'Confidence': 99.31624603271484, 'Text': 'Operating', 'Geometry': {'BoundingBox': {'Width': 0.08352506905794144, 'Height': 0.04231208935379982, 'Left': 0.3182767331600189, 'Top': 0.543016254901886}, 'Polygon': [{'X': 0.3182767331600189, 'Y': 0.543016254901886}, {'X': 0.40180179476737976, 'Y': 0.543016254901886}, {'X': 0.40180179476737976, 'Y': 0.5853283405303955}, {'X': 0.3182767331600189, 'Y': 0.5853283405303955}]}, 'Id': '8818d22c-d1ee-44f6-b7fc-a0ed47822ebd'}, {'BlockType': 'WORD', 'Confidence': 93.9218978881836, 'Text': 'revenue', 'Geometry': {'BoundingBox': {'Width': 0.06668496131896973, 'Height': 0.026235129684209824, 'Left': 0.40470004081726074, 'Top': 0.5508843660354614}, 'Polygon': [{'X': 0.40470004081726074, 'Y': 0.5508843660354614}, {'X': 0.47138500213623047, 'Y': 0.5508843660354614}, {'X': 0.47138500213623047, 'Y': 0.5771195292472839}, {'X': 0.40470004081726074, 'Y': 0.5771195292472839}]}, 'Id': '73243a80-f2de-4e2e-ae92-1fdd231c763c'}, {'BlockType': 'WORD', 'Confidence': 99.93925476074219, 'Text': 'price', 'Geometry': {'BoundingBox': {'Width': 0.04096769914031029, 'Height': 0.04186505079269409, 'Left': 0.5130714774131775, 'Top': 0.5432693958282471}, 'Polygon': [{'X': 0.5130714774131775, 'Y': 0.5432693958282471}, {'X': 0.5540391802787781, 'Y': 0.5432693958282471}, {'X': 0.5540391802787781, 'Y': 0.5851344466209412}, {'X': 0.5130714774131775, 'Y': 0.5851344466209412}]}, 'Id': 'df6bf91d-fa50-44f6-ac7d-c55563853084'}, {'BlockType': 'WORD', 'Confidence': 99.6151351928711, 'Text': 'competition', 'Geometry': {'BoundingBox': {'Width': 0.09608978033065796, 'Height': 0.04151646047830582, 'Left': 0.55707186460495, 'Top': 0.5431941747665405}, 'Polygon': [{'X': 0.55707186460495, 'Y': 0.5431941747665405}, {'X': 0.6531616449356079, 'Y': 0.5431941747665405}, {'X': 0.6531616449356079, 'Y': 0.5847106575965881}, {'X': 0.55707186460495, 'Y': 0.5847106575965881}]}, 'Id': '3c1a7290-36f7-4bf5-8541-0b3e6359210d'}, {'BlockType': 'WORD', 'Confidence': 99.73028564453125, 'Text': 'in', 'Geometry': {'BoundingBox': {'Width': 0.015697330236434937, 'Height': 0.03424166887998581, 'Left': 0.6569116711616516, 'Top': 0.5428507924079895}, 'Polygon': [{'X': 0.6569116711616516, 'Y': 0.5428507924079895}, {'X': 0.6726090312004089, 'Y': 0.5428507924079895}, {'X': 0.6726090312004089, 'Y': 0.5770924687385559}, {'X': 0.6569116711616516, 'Y': 0.5770924687385559}]}, 'Id': '13bfb54f-66ce-4f7e-ab18-486d98617f79'}, {'BlockType': 'WORD', 'Confidence': 88.72380828857422, 'Text': 'India', 'Geometry': {'BoundingBox': {'Width': 0.04210849851369858, 'Height': 0.03508000075817108, 'Left': 0.6759554147720337, 'Top': 0.5423778891563416}, 'Polygon': [{'X': 0.6759554147720337, 'Y': 0.5423778891563416}, {'X': 0.7180638909339905, 'Y': 0.5423778891563416}, {'X': 0.7180638909339905, 'Y': 0.5774579048156738}, {'X': 0.6759554147720337, 'Y': 0.5774579048156738}]}, 'Id': '5ec58059-ace9-4fa1-a959-e1c6c978d44a'}, {'BlockType': 'WORD', 'Confidence': 99.52873992919922, 'Text': 'and', 'Geometry': {'BoundingBox': {'Width': 0.03271818161010742, 'Height': 0.03459889814257622, 'Left': 0.7211718559265137, 'Top': 0.5427632927894592}, 'Polygon': [{'X': 0.7211718559265137, 'Y': 0.5427632927894592}, {'X': 0.7538900375366211, 'Y': 0.5427632927894592}, {'X': 0.7538900375366211, 'Y': 0.5773621797561646}, {'X': 0.7211718559265137, 'Y': 0.5773621797561646}]}, 'Id': 'c648edce-6306-4454-9a62-8b0b260d7158'}, {'BlockType': 'WORD', 'Confidence': 90.52482604980469, 'Text': 'Indonesig.', 'Geometry': {'BoundingBox': {'Width': 0.08384872227907181, 'Height': 0.03445170074701309, 'Left': 0.7576057314872742, 'Top': 0.5422264933586121}, 'Polygon': [{'X': 0.7576057314872742, 'Y': 0.5422264933586121}, {'X': 0.8414544463157654, 'Y': 0.5422264933586121}, {'X': 0.8414544463157654, 'Y': 0.5766782164573669}, {'X': 0.7576057314872742, 'Y': 0.5766782164573669}]}, 'Id': '53f0156d-5847-46ce-ac6b-ede37e22df85'}, {'BlockType': 'WORD', 'Confidence': 99.18865966796875, 'Text': 'The', 'Geometry': {'BoundingBox': {'Width': 0.031182600185275078, 'Height': 0.03435909003019333, 'Left': 0.8433554768562317, 'Top': 0.5424506664276123}, 'Polygon': [{'X': 0.8433554768562317, 'Y': 0.5424506664276123}, {'X': 0.8745381236076355, 'Y': 0.5424506664276123}, {'X': 0.8745381236076355, 'Y': 0.5768097639083862}, {'X': 0.8433554768562317, 'Y': 0.5768097639083862}]}, 'Id': 'ed6f3387-49f1-4bef-a8e5-274ba93da03b'}, {'BlockType': 'WORD', 'Confidence': 99.90045928955078, 'Text': 'decline', 'Geometry': {'BoundingBox': {'Width': 0.06023323908448219, 'Height': 0.035519201308488846, 'Left': 0.877819299697876, 'Top': 0.5416061878204346}, 'Polygon': [{'X': 0.877819299697876, 'Y': 0.5416061878204346}, {'X': 0.9380525350570679, 'Y': 0.5416061878204346}, {'X': 0.9380525350570679, 'Y': 0.5771253705024719}, {'X': 0.877819299697876, 'Y': 0.5771253705024719}]}, 'Id': 'd1e6d95c-308b-4234-b6f1-6b65faa78480'}, {'BlockType': 'WORD', 'Confidence': 96.81798553466797, 'Text': 'was', 'Geometry': {'BoundingBox': {'Width': 0.0338468998670578, 'Height': 0.025980550795793533, 'Left': 0.9402593970298767, 'Top': 0.551042914390564}, 'Polygon': [{'X': 0.9402593970298767, 'Y': 0.551042914390564}, {'X': 0.9741063117980957, 'Y': 0.551042914390564}, {'X': 0.9741063117980957, 'Y': 0.577023446559906}, {'X': 0.9402593970298767, 'Y': 0.577023446559906}]}, 'Id': 'd0f2d419-763c-439a-8914-9989e7695b7e'}, {'BlockType': 'WORD', 'Confidence': 98.08277130126953, 'Text': 'was', 'Geometry': {'BoundingBox': {'Width': 0.03395729139447212, 'Height': 0.025475939735770226, 'Left': 0.016424302011728287, 'Top': 0.6038724184036255}, 'Polygon': [{'X': 0.016424302011728287, 'Y': 0.6038724184036255}, {'X': 0.05038159340620041, 'Y': 0.6038724184036255}, {'X': 0.05038159340620041, 'Y': 0.6293483376502991}, {'X': 0.016424302011728287, 'Y': 0.6293483376502991}]}, 'Id': 'b06f0e98-e9a2-47b2-bd4a-a205a9643709'}, {'BlockType': 'WORD', 'Confidence': 99.69882202148438, 'Text': 'stable', 'Geometry': {'BoundingBox': {'Width': 0.049527619034051895, 'Height': 0.035930220037698746, 'Left': 0.053631652146577835, 'Top': 0.5946954488754272}, 'Polygon': [{'X': 0.053631652146577835, 'Y': 0.5946954488754272}, {'X': 0.10315927118062973, 'Y': 0.5946954488754272}, {'X': 0.10315927118062973, 'Y': 0.6306256651878357}, {'X': 0.053631652146577835, 'Y': 0.6306256651878357}]}, 'Id': '45f03a63-92f7-421d-b2ca-5c9537bfcf17'}, {'BlockType': 'WORD', 'Confidence': 98.02041625976562, 'Text': 'at', 'Geometry': {'BoundingBox': {'Width': 0.0178633201867342, 'Height': 0.03172245994210243, 'Left': 0.10678420215845108, 'Top': 0.5980833768844604}, 'Polygon': [{'X': 0.10678420215845108, 'Y': 0.5980833768844604}, {'X': 0.12464752048254013, 'Y': 0.5980833768844604}, {'X': 0.12464752048254013, 'Y': 0.629805862903595}, {'X': 0.10678420215845108, 'Y': 0.629805862903595}]}, 'Id': 'a23fd7b8-6ba0-43fa-a252-34183e83eaa0'}, {'BlockType': 'WORD', 'Confidence': 94.69889068603516, 'Text': 'S$17.37', 'Geometry': {'BoundingBox': {'Width': 0.056308940052986145, 'Height': 0.033502690494060516, 'Left': 0.12786398828029633, 'Top': 0.5960588455200195}, 'Polygon': [{'X': 0.12786398828029633, 'Y': 0.5960588455200195}, {'X': 0.18417292833328247, 'Y': 0.5960588455200195}, {'X': 0.18417292833328247, 'Y': 0.6295615434646606}, {'X': 0.12786398828029633, 'Y': 0.6295615434646606}]}, 'Id': '9f17fb00-a411-456b-96e1-47a2e1142275'}, {'BlockType': 'WORD', 'Confidence': 99.94033813476562, 'Text': 'billion', 'Geometry': {'BoundingBox': {'Width': 0.048170238733291626, 'Height': 0.03588400036096573, 'Left': 0.18768192827701569, 'Top': 0.5946627259254456}, 'Polygon': [{'X': 0.18768192827701569, 'Y': 0.5946627259254456}, {'X': 0.2358521670103073, 'Y': 0.5946627259254456}, {'X': 0.2358521670103073, 'Y': 0.6305466890335083}, {'X': 0.18768192827701569, 'Y': 0.6305466890335083}]}, 'Id': 'f9a9371a-18e8-4c08-8c43-724dc2eae734'}, {'BlockType': 'WORD', 'Confidence': 99.76631164550781, 'Text': 'while', 'Geometry': {'BoundingBox': {'Width': 0.04358749836683273, 'Height': 0.03631550073623657, 'Left': 0.2394513487815857, 'Top': 0.5941737294197083}, 'Polygon': [{'X': 0.2394513487815857, 'Y': 0.5941737294197083}, {'X': 0.283038854598999, 'Y': 0.5941737294197083}, {'X': 0.283038854598999, 'Y': 0.6304891705513}, {'X': 0.2394513487815857, 'Y': 0.6304891705513}]}, 'Id': '6af166f3-a155-4638-9fe8-a378f13bc01d'}, {'BlockType': 'WORD', 'Confidence': 99.88871002197266, 'Text': 'EBITDA', 'Geometry': {'BoundingBox': {'Width': 0.06075457111001015, 'Height': 0.032652318477630615, 'Left': 0.2864873707294464, 'Top': 0.5961937308311462}, 'Polygon': [{'X': 0.2864873707294464, 'Y': 0.5961937308311462}, {'X': 0.34724193811416626, 'Y': 0.5961937308311462}, {'X': 0.34724193811416626, 'Y': 0.6288460493087769}, {'X': 0.2864873707294464, 'Y': 0.6288460493087769}]}, 'Id': '5903b4b9-4ba7-480b-9a58-b6016f59eedd'}, {'BlockType': 'WORD', 'Confidence': 99.85383605957031, 'Text': 'declined', 'Geometry': {'BoundingBox': {'Width': 0.06921733170747757, 'Height': 0.03477320075035095, 'Left': 0.3496254086494446, 'Top': 0.5954062938690186}, 'Polygon': [{'X': 0.3496254086494446, 'Y': 0.5954062938690186}, {'X': 0.41884273290634155, 'Y': 0.5954062938690186}, {'X': 0.41884273290634155, 'Y': 0.6301795244216919}, {'X': 0.3496254086494446, 'Y': 0.6301795244216919}]}, 'Id': '7903c1cc-d3ff-4e1e-80fe-0fcae50c54db'}, {'BlockType': 'WORD', 'Confidence': 96.79798126220703, 'Text': '7.1%', 'Geometry': {'BoundingBox': {'Width': 0.02961858920753002, 'Height': 0.033960599452257156, 'Left': 0.421936959028244, 'Top': 0.5961198806762695}, 'Polygon': [{'X': 0.421936959028244, 'Y': 0.5961198806762695}, {'X': 0.4515555500984192, 'Y': 0.5961198806762695}, {'X': 0.4515555500984192, 'Y': 0.63008052110672}, {'X': 0.421936959028244, 'Y': 0.63008052110672}]}, 'Id': '9e1ae556-f2bf-466f-ba56-d427e26f9ac7'}, {'BlockType': 'WORD', 'Confidence': 99.09866333007812, 'Text': 'partly', 'Geometry': {'BoundingBox': {'Width': 0.048131030052900314, 'Height': 0.04335824027657509, 'Left': 0.5131788849830627, 'Top': 0.5953657627105713}, 'Polygon': [{'X': 0.5131788849830627, 'Y': 0.5953657627105713}, {'X': 0.5613099336624146, 'Y': 0.5953657627105713}, {'X': 0.5613099336624146, 'Y': 0.6387240290641785}, {'X': 0.5131788849830627, 'Y': 0.6387240290641785}]}, 'Id': '2b4b5895-f9b6-4a29-862a-5119ad0f2171'}, {'BlockType': 'WORD', 'Confidence': 99.1725845336914, 'Text': 'mitigated', 'Geometry': {'BoundingBox': {'Width': 0.07888411730527878, 'Height': 0.041982728987932205, 'Left': 0.5637755393981934, 'Top': 0.5959240198135376}, 'Polygon': [{'X': 0.5637755393981934, 'Y': 0.5959240198135376}, {'X': 0.6426596641540527, 'Y': 0.5959240198135376}, {'X': 0.6426596641540527, 'Y': 0.6379067301750183}, {'X': 0.5637755393981934, 'Y': 0.6379067301750183}]}, 'Id': '6f1ee8b6-fdc5-4a71-9a61-57de1e946a17'}, {'BlockType': 'WORD', 'Confidence': 99.89400482177734, 'Text': 'by', 'Geometry': {'BoundingBox': {'Width': 0.021039189770817757, 'Height': 0.041570551693439484, 'Left': 0.6455667614936829, 'Top': 0.5955919027328491}, 'Polygon': [{'X': 0.6455667614936829, 'Y': 0.5955919027328491}, {'X': 0.6666059494018555, 'Y': 0.5955919027328491}, {'X': 0.6666059494018555, 'Y': 0.637162446975708}, {'X': 0.6455667614936829, 'Y': 0.637162446975708}]}, 'Id': 'e9851dbe-a43a-4f2b-baaa-9efb82d58451'}, {'BlockType': 'WORD', 'Confidence': 99.81375122070312, 'Text': 'double-digit', 'Geometry': {'BoundingBox': {'Width': 0.10124027729034424, 'Height': 0.04321970045566559, 'Left': 0.6700766682624817, 'Top': 0.5952916145324707}, 'Polygon': [{'X': 0.6700766682624817, 'Y': 0.5952916145324707}, {'X': 0.7713169455528259, 'Y': 0.5952916145324707}, {'X': 0.7713169455528259, 'Y': 0.6385113000869751}, {'X': 0.6700766682624817, 'Y': 0.6385113000869751}]}, 'Id': '42a9b89f-5cb2-4a5e-a200-971f8c17fb1e'}, {'BlockType': 'WORD', 'Confidence': 92.76710510253906, 'Text': 'profit', 'Geometry': {'BoundingBox': {'Width': 0.044850848615169525, 'Height': 0.042653750628232956, 'Left': 0.774093747138977, 'Top': 0.5954613089561462}, 'Polygon': [{'X': 0.774093747138977, 'Y': 0.5954613089561462}, {'X': 0.8189445734024048, 'Y': 0.5954613089561462}, {'X': 0.8189445734024048, 'Y': 0.6381150484085083}, {'X': 0.774093747138977, 'Y': 0.6381150484085083}]}, 'Id': 'd9e2dc2d-f372-4b7e-8c8d-3756d4d4df84'}, {'BlockType': 'WORD', 'Confidence': 99.9423599243164, 'Text': 'growth', 'Geometry': {'BoundingBox': {'Width': 0.058153700083494186, 'Height': 0.0422201007604599, 'Left': 0.8213230967521667, 'Top': 0.5958672165870667}, 'Polygon': [{'X': 0.8213230967521667, 'Y': 0.5958672165870667}, {'X': 0.87947678565979, 'Y': 0.5958672165870667}, {'X': 0.87947678565979, 'Y': 0.638087272644043}, {'X': 0.8213230967521667, 'Y': 0.638087272644043}]}, 'Id': '7c978c24-af50-431b-bf7b-8265f1155d37'}, {'BlockType': 'WORD', 'Confidence': 96.24560546875, 'Text': 'at', 'Geometry': {'BoundingBox': {'Width': 0.017236830666661263, 'Height': 0.03175165131688118, 'Left': 0.88324373960495, 'Top': 0.5977986454963684}, 'Polygon': [{'X': 0.88324373960495, 'Y': 0.5977986454963684}, {'X': 0.9004805684089661, 'Y': 0.5977986454963684}, {'X': 0.9004805684089661, 'Y': 0.6295502781867981}, {'X': 0.88324373960495, 'Y': 0.6295502781867981}]}, 'Id': '452f1b6c-8ff3-45b8-a588-a6af803dcd75'}, {'BlockType': 'WORD', 'Confidence': 99.7951431274414, 'Text': 'Globe', 'Geometry': {'BoundingBox': {'Width': 0.05102800950407982, 'Height': 0.03555554151535034, 'Left': 0.9029199481010437, 'Top': 0.5951941013336182}, 'Polygon': [{'X': 0.9029199481010437, 'Y': 0.5951941013336182}, {'X': 0.9539479613304138, 'Y': 0.5951941013336182}, {'X': 0.9539479613304138, 'Y': 0.6307496428489685}, {'X': 0.9029199481010437, 'Y': 0.6307496428489685}]}, 'Id': 'c7eb9b5e-6c6c-4c39-a88e-3cad12e7e1f8'}, {'BlockType': 'WORD', 'Confidence': 99.62732696533203, 'Text': 'to', 'Geometry': {'BoundingBox': {'Width': 0.0173428263515234, 'Height': 0.030579259619116783, 'Left': 0.016760369762778282, 'Top': 0.6515828371047974}, 'Polygon': [{'X': 0.016760369762778282, 'Y': 0.6515828371047974}, {'X': 0.03410319611430168, 'Y': 0.6515828371047974}, {'X': 0.03410319611430168, 'Y': 0.6821621060371399}, {'X': 0.016760369762778282, 'Y': 0.6821621060371399}]}, 'Id': '0c78fa50-1300-411a-9058-ad1b95753991'}, {'BlockType': 'WORD', 'Confidence': 96.88401794433594, 'Text': 'S$4.69', 'Geometry': {'BoundingBox': {'Width': 0.05545492842793465, 'Height': 0.03521919995546341, 'Left': 0.03655689209699631, 'Top': 0.648430585861206}, 'Polygon': [{'X': 0.03655689209699631, 'Y': 0.648430585861206}, {'X': 0.09201181679964066, 'Y': 0.648430585861206}, {'X': 0.09201181679964066, 'Y': 0.6836497783660889}, {'X': 0.03655689209699631, 'Y': 0.6836497783660889}]}, 'Id': '7914963c-02fb-4d0e-87e1-0b16709a572f'}, {'BlockType': 'WORD', 'Confidence': 98.32999420166016, 'Text': 'billion', 'Geometry': {'BoundingBox': {'Width': 0.04792235046625137, 'Height': 0.03739609941840172, 'Left': 0.09588374942541122, 'Top': 0.6473541855812073}, 'Polygon': [{'X': 0.09588374942541122, 'Y': 0.6473541855812073}, {'X': 0.1438060998916626, 'Y': 0.6473541855812073}, {'X': 0.1438060998916626, 'Y': 0.6847503185272217}, {'X': 0.09588374942541122, 'Y': 0.6847503185272217}]}, 'Id': '52b08597-41df-413b-b218-26a8ed615b35'}, {'BlockType': 'WORD', 'Confidence': 99.84506225585938, 'Text': 'due', 'Geometry': {'BoundingBox': {'Width': 0.03169405832886696, 'Height': 0.034290559589862823, 'Left': 0.14777781069278717, 'Top': 0.6485767364501953}, 'Polygon': [{'X': 0.14777781069278717, 'Y': 0.6485767364501953}, {'X': 0.17947186529636383, 'Y': 0.6485767364501953}, {'X': 0.17947186529636383, 'Y': 0.6828672885894775}, {'X': 0.14777781069278717, 'Y': 0.6828672885894775}]}, 'Id': '75259d7c-1bed-4e28-a5de-71c609595062'}, {'BlockType': 'WORD', 'Confidence': 99.573974609375, 'Text': 'partly', 'Geometry': {'BoundingBox': {'Width': 0.0483558215200901, 'Height': 0.042778730392456055, 'Left': 0.1831318736076355, 'Top': 0.6487236022949219}, 'Polygon': [{'X': 0.1831318736076355, 'Y': 0.6487236022949219}, {'X': 0.2314876914024353, 'Y': 0.6487236022949219}, {'X': 0.2314876914024353, 'Y': 0.6915023326873779}, {'X': 0.1831318736076355, 'Y': 0.6915023326873779}]}, 'Id': '9837d1ae-ee50-4532-8f03-39c93197ede0'}, {'BlockType': 'WORD', 'Confidence': 99.69351959228516, 'Text': 'to', 'Geometry': {'BoundingBox': {'Width': 0.0173272006213665, 'Height': 0.03121590055525303, 'Left': 0.233857199549675, 'Top': 0.6513645052909851}, 'Polygon': [{'X': 0.233857199549675, 'Y': 0.6513645052909851}, {'X': 0.2511844038963318, 'Y': 0.6513645052909851}, {'X': 0.2511844038963318, 'Y': 0.6825804114341736}, {'X': 0.233857199549675, 'Y': 0.6825804114341736}]}, 'Id': '471ef7eb-0a93-4fef-b8f4-6ceaf034b048'}, {'BlockType': 'WORD', 'Confidence': 56.93860626220703, 'Text': 'a', 'Geometry': {'BoundingBox': {'Width': 0.011757680214941502, 'Height': 0.025417599827051163, 'Left': 0.2547453045845032, 'Top': 0.657162070274353}, 'Polygon': [{'X': 0.2547453045845032, 'Y': 0.657162070274353}, {'X': 0.2665029764175415, 'Y': 0.657162070274353}, {'X': 0.2665029764175415, 'Y': 0.6825796961784363}, {'X': 0.2547453045845032, 'Y': 0.6825796961784363}]}, 'Id': '7a6729b5-19cc-4f38-9d45-96fec3966bab'}, {'BlockType': 'WORD', 'Confidence': 99.68511199951172, 'Text': '6%', 'Geometry': {'BoundingBox': {'Width': 0.02230587974190712, 'Height': 0.03397339954972267, 'Left': 0.26947635412216187, 'Top': 0.6491767168045044}, 'Polygon': [{'X': 0.26947635412216187, 'Y': 0.6491767168045044}, {'X': 0.2917822301387787, 'Y': 0.6491767168045044}, {'X': 0.2917822301387787, 'Y': 0.6831501126289368}, {'X': 0.26947635412216187, 'Y': 0.6831501126289368}]}, 'Id': '9d4ada2e-5b1e-48c7-a8c0-5ac3fbdb5cc9'}, {'BlockType': 'WORD', 'Confidence': 99.93049621582031, 'Text': 'depreciation', 'Geometry': {'BoundingBox': {'Width': 0.10275968164205551, 'Height': 0.04300269857048988, 'Left': 0.29548078775405884, 'Top': 0.6474511027336121}, 'Polygon': [{'X': 0.29548078775405884, 'Y': 0.6474511027336121}, {'X': 0.39824047684669495, 'Y': 0.6474511027336121}, {'X': 0.39824047684669495, 'Y': 0.690453827381134}, {'X': 0.29548078775405884, 'Y': 0.690453827381134}]}, 'Id': '03628b1d-a5f6-49b4-bf05-0830165a3711'}, {'BlockType': 'WORD', 'Confidence': 98.9593734741211, 'Text': 'in', 'Geometry': {'BoundingBox': {'Width': 0.015285530127584934, 'Height': 0.03437260165810585, 'Left': 0.40163126587867737, 'Top': 0.6484907865524292}, 'Polygon': [{'X': 0.40163126587867737, 'Y': 0.6484907865524292}, {'X': 0.41691678762435913, 'Y': 0.6484907865524292}, {'X': 0.41691678762435913, 'Y': 0.6828634142875671}, {'X': 0.40163126587867737, 'Y': 0.6828634142875671}]}, 'Id': 'fd2dc21d-1660-4d6f-adea-21365dccc150'}, {'BlockType': 'WORD', 'Confidence': 99.76480865478516, 'Text': 'the', 'Geometry': {'BoundingBox': {'Width': 0.027018899098038673, 'Height': 0.03364301100373268, 'Left': 0.4201525151729584, 'Top': 0.6491034626960754}, 'Polygon': [{'X': 0.4201525151729584, 'Y': 0.6491034626960754}, {'X': 0.4471714198589325, 'Y': 0.6491034626960754}, {'X': 0.4471714198589325, 'Y': 0.6827464699745178}, {'X': 0.4201525151729584, 'Y': 0.6827464699745178}]}, 'Id': 'eeab6045-dd4c-4995-b523-f61372239c14'}, {'BlockType': 'WORD', 'Confidence': 99.86306762695312, 'Text': 'with', 'Geometry': {'BoundingBox': {'Width': 0.035464029759168625, 'Height': 0.034508541226387024, 'Left': 0.5122227668762207, 'Top': 0.6458720564842224}, 'Polygon': [{'X': 0.5122227668762207, 'Y': 0.6458720564842224}, {'X': 0.5476868152618408, 'Y': 0.6458720564842224}, {'X': 0.5476868152618408, 'Y': 0.6803805828094482}, {'X': 0.5122227668762207, 'Y': 0.6803805828094482}]}, 'Id': 'e3c4bc7d-71ef-4d67-8952-e8cf027cc664'}, {'BlockType': 'WORD', 'Confidence': 99.86856079101562, 'Text': 'robust', 'Geometry': {'BoundingBox': {'Width': 0.053062960505485535, 'Height': 0.0341900996863842, 'Left': 0.550832986831665, 'Top': 0.645550012588501}, 'Polygon': [{'X': 0.550832986831665, 'Y': 0.645550012588501}, {'X': 0.6038959622383118, 'Y': 0.645550012588501}, {'X': 0.6038959622383118, 'Y': 0.6797400712966919}, {'X': 0.550832986831665, 'Y': 0.6797400712966919}]}, 'Id': 'cb827cf9-45ed-4fda-a2d0-caa93240beca'}, {'BlockType': 'WORD', 'Confidence': 99.90621948242188, 'Text': 'revenue', 'Geometry': {'BoundingBox': {'Width': 0.06657969951629639, 'Height': 0.026688899844884872, 'Left': 0.6062346696853638, 'Top': 0.6529954075813293}, 'Polygon': [{'X': 0.6062346696853638, 'Y': 0.6529954075813293}, {'X': 0.6728143692016602, 'Y': 0.6529954075813293}, {'X': 0.6728143692016602, 'Y': 0.6796842813491821}, {'X': 0.6062346696853638, 'Y': 0.6796842813491821}]}, 'Id': '77655b25-024c-4ae1-9e98-462d26e6281e'}, {'BlockType': 'WORD', 'Confidence': 99.94361114501953, 'Text': 'growth', 'Geometry': {'BoundingBox': {'Width': 0.058107130229473114, 'Height': 0.0428762286901474, 'Left': 0.6757988929748535, 'Top': 0.6458038687705994}, 'Polygon': [{'X': 0.6757988929748535, 'Y': 0.6458038687705994}, {'X': 0.7339060306549072, 'Y': 0.6458038687705994}, {'X': 0.7339060306549072, 'Y': 0.688680112361908}, {'X': 0.6757988929748535, 'Y': 0.688680112361908}]}, 'Id': '269bfbef-9826-4f66-b220-3247e4d13062'}, {'BlockType': 'WORD', 'Confidence': 99.637939453125, 'Text': 'in', 'Geometry': {'BoundingBox': {'Width': 0.015179400332272053, 'Height': 0.0332178995013237, 'Left': 0.7371588349342346, 'Top': 0.6458261013031006}, 'Polygon': [{'X': 0.7371588349342346, 'Y': 0.6458261013031006}, {'X': 0.7523382306098938, 'Y': 0.6458261013031006}, {'X': 0.7523382306098938, 'Y': 0.6790440082550049}, {'X': 0.7371588349342346, 'Y': 0.6790440082550049}]}, 'Id': '846fbeaf-1b69-4920-b7ee-daf7b09ae9f5'}, {'BlockType': 'WORD', 'Confidence': 99.87420654296875, 'Text': 'mobile', 'Geometry': {'BoundingBox': {'Width': 0.05568525940179825, 'Height': 0.034489698708057404, 'Left': 0.756181538105011, 'Top': 0.6453863978385925}, 'Polygon': [{'X': 0.756181538105011, 'Y': 0.6453863978385925}, {'X': 0.811866819858551, 'Y': 0.6453863978385925}, {'X': 0.811866819858551, 'Y': 0.6798760890960693}, {'X': 0.756181538105011, 'Y': 0.6798760890960693}]}, 'Id': '61b8e4f7-83ea-4ba3-94c5-95c9bc3e71e9'}, {'BlockType': 'WORD', 'Confidence': 82.7322769165039, 'Text': 'and', 'Geometry': {'BoundingBox': {'Width': 0.03261423856019974, 'Height': 0.03442719951272011, 'Left': 0.8152734637260437, 'Top': 0.6456323862075806}, 'Polygon': [{'X': 0.8152734637260437, 'Y': 0.6456323862075806}, {'X': 0.8478876948356628, 'Y': 0.6456323862075806}, {'X': 0.8478876948356628, 'Y': 0.6800596117973328}, {'X': 0.8152734637260437, 'Y': 0.6800596117973328}]}, 'Id': '60cc556e-48d2-47f8-82c7-12a22b4990fa'}, {'BlockType': 'WORD', 'Confidence': 99.75701141357422, 'Text': 'broadband', 'Geometry': {'BoundingBox': {'Width': 0.09640330076217651, 'Height': 0.03525630012154579, 'Left': 0.8503783941268921, 'Top': 0.644504189491272}, 'Polygon': [{'X': 0.8503783941268921, 'Y': 0.644504189491272}, {'X': 0.9467816948890686, 'Y': 0.644504189491272}, {'X': 0.9467816948890686, 'Y': 0.6797605156898499}, {'X': 0.8503783941268921, 'Y': 0.6797605156898499}]}, 'Id': '1b78f607-a602-4984-9ca0-15eed3835f16'}, {'BlockType': 'WORD', 'Confidence': 99.92845916748047, 'Text': 'Australian', 'Geometry': {'BoundingBox': {'Width': 0.08228687942028046, 'Height': 0.03497213125228882, 'Left': 0.016308078542351723, 'Top': 0.6979598999023438}, 'Polygon': [{'X': 0.016308078542351723, 'Y': 0.6979598999023438}, {'X': 0.09859495609998703, 'Y': 0.6979598999023438}, {'X': 0.09859495609998703, 'Y': 0.7329320311546326}, {'X': 0.016308078542351723, 'Y': 0.7329320311546326}]}, 'Id': '0ef0ccea-b0c8-407c-924d-5424af97e9a2'}, {'BlockType': 'WORD', 'Confidence': 99.7824935913086, 'Text': 'Dollar.', 'Geometry': {'BoundingBox': {'Width': 0.052759408950805664, 'Height': 0.03644195944070816, 'Left': 0.10305637121200562, 'Top': 0.6977274417877197}, 'Polygon': [{'X': 0.10305637121200562, 'Y': 0.6977274417877197}, {'X': 0.15581578016281128, 'Y': 0.6977274417877197}, {'X': 0.15581578016281128, 'Y': 0.7341694235801697}, {'X': 0.10305637121200562, 'Y': 0.7341694235801697}]}, 'Id': 'ff2f6a6b-e8e1-4395-8810-47b810ece683'}, {'BlockType': 'WORD', 'Confidence': 98.13383483886719, 'Text': 'In', 'Geometry': {'BoundingBox': {'Width': 0.01599626988172531, 'Height': 0.03364900127053261, 'Left': 0.15914063155651093, 'Top': 0.698482096195221}, 'Polygon': [{'X': 0.15914063155651093, 'Y': 0.698482096195221}, {'X': 0.17513689398765564, 'Y': 0.698482096195221}, {'X': 0.17513689398765564, 'Y': 0.7321311235427856}, {'X': 0.15914063155651093, 'Y': 0.7321311235427856}]}, 'Id': '30e95b87-6fb8-4d47-b493-05750e34a97e'}, {'BlockType': 'WORD', 'Confidence': 99.69232940673828, 'Text': 'constant', 'Geometry': {'BoundingBox': {'Width': 0.0705878883600235, 'Height': 0.03196699172258377, 'Left': 0.17860813438892365, 'Top': 0.7004785537719727}, 'Polygon': [{'X': 0.17860813438892365, 'Y': 0.7004785537719727}, {'X': 0.24919602274894714, 'Y': 0.7004785537719727}, {'X': 0.24919602274894714, 'Y': 0.7324455380439758}, {'X': 0.17860813438892365, 'Y': 0.7324455380439758}]}, 'Id': '24b28654-86a9-4c75-ad0d-620354354221'}, {'BlockType': 'WORD', 'Confidence': 99.92908477783203, 'Text': 'currency', 'Geometry': {'BoundingBox': {'Width': 0.07134535908699036, 'Height': 0.033889248967170715, 'Left': 0.25171664357185364, 'Top': 0.7056625485420227}, 'Polygon': [{'X': 0.25171664357185364, 'Y': 0.7056625485420227}, {'X': 0.323062002658844, 'Y': 0.7056625485420227}, {'X': 0.323062002658844, 'Y': 0.7395517826080322}, {'X': 0.25171664357185364, 'Y': 0.7395517826080322}]}, 'Id': '3665fa7b-2013-4dfd-928a-90ceb28b0b60'}, {'BlockType': 'WORD', 'Confidence': 99.5377197265625, 'Text': 'terms,', 'Geometry': {'BoundingBox': {'Width': 0.05061290040612221, 'Height': 0.037316348403692245, 'Left': 0.32646822929382324, 'Top': 0.7001963257789612}, 'Polygon': [{'X': 0.32646822929382324, 'Y': 0.7001963257789612}, {'X': 0.37708112597465515, 'Y': 0.7001963257789612}, {'X': 0.37708112597465515, 'Y': 0.7375126481056213}, {'X': 0.32646822929382324, 'Y': 0.7375126481056213}]}, 'Id': '3eb87c6c-49c4-4a48-a879-22e3acdd035a'}, {'BlockType': 'WORD', 'Confidence': 97.94568634033203, 'Text': 'operating', 'Geometry': {'BoundingBox': {'Width': 0.07893422245979309, 'Height': 0.04050615057349205, 'Left': 0.3810625374317169, 'Top': 0.699550449848175}, 'Polygon': [{'X': 0.3810625374317169, 'Y': 0.699550449848175}, {'X': 0.45999675989151, 'Y': 0.699550449848175}, {'X': 0.45999675989151, 'Y': 0.740056574344635}, {'X': 0.3810625374317169, 'Y': 0.740056574344635}]}, 'Id': '564c4b8a-8696-46cc-91db-e0cab2d92290'}, {'BlockType': 'WORD', 'Confidence': 99.8851547241211, 'Text': 'revenue', 'Geometry': {'BoundingBox': {'Width': 0.06636696308851242, 'Height': 0.025844700634479523, 'Left': 0.0168130062520504, 'Top': 0.7585620284080505}, 'Polygon': [{'X': 0.0168130062520504, 'Y': 0.7585620284080505}, {'X': 0.08317996561527252, 'Y': 0.7585620284080505}, {'X': 0.08317996561527252, 'Y': 0.7844067215919495}, {'X': 0.0168130062520504, 'Y': 0.7844067215919495}]}, 'Id': '94d09a6c-98b6-4a64-9db6-63e24a5a11d3'}, {'BlockType': 'WORD', 'Confidence': 99.80359649658203, 'Text': 'grew', 'Geometry': {'BoundingBox': {'Width': 0.04222536087036133, 'Height': 0.036488570272922516, 'Left': 0.08670183271169662, 'Top': 0.7573671340942383}, 'Polygon': [{'X': 0.08670183271169662, 'Y': 0.7573671340942383}, {'X': 0.12892718613147736, 'Y': 0.7573671340942383}, {'X': 0.12892718613147736, 'Y': 0.7938557267189026}, {'X': 0.08670183271169662, 'Y': 0.7938557267189026}]}, 'Id': '8ef85007-c462-40f2-b6aa-2dff6fcfa552'}, {'BlockType': 'WORD', 'Confidence': 99.29398345947266, 'Text': '3.7%', 'Geometry': {'BoundingBox': {'Width': 0.03487375006079674, 'Height': 0.03346024081110954, 'Left': 0.13187545537948608, 'Top': 0.7517815828323364}, 'Polygon': [{'X': 0.13187545537948608, 'Y': 0.7517815828323364}, {'X': 0.16674920916557312, 'Y': 0.7517815828323364}, {'X': 0.16674920916557312, 'Y': 0.7852418422698975}, {'X': 0.13187545537948608, 'Y': 0.7852418422698975}]}, 'Id': '7b2f5892-d2b8-44b6-8bd1-7b5ec844c771'}, {'BlockType': 'WORD', 'Confidence': 99.86761474609375, 'Text': 'driven', 'Geometry': {'BoundingBox': {'Width': 0.051175348460674286, 'Height': 0.03427864983677864, 'Left': 0.17003165185451508, 'Top': 0.750965416431427}, 'Polygon': [{'X': 0.17003165185451508, 'Y': 0.750965416431427}, {'X': 0.22120699286460876, 'Y': 0.750965416431427}, {'X': 0.22120699286460876, 'Y': 0.7852440476417542}, {'X': 0.17003165185451508, 'Y': 0.7852440476417542}]}, 'Id': 'a5d46eec-d9b6-4504-8984-1dc595835202'}, {'BlockType': 'WORD', 'Confidence': 99.82776641845703, 'Text': 'mainly', 'Geometry': {'BoundingBox': {'Width': 0.05533502995967865, 'Height': 0.042291101068258286, 'Left': 0.2248423546552658, 'Top': 0.7507944107055664}, 'Polygon': [{'X': 0.2248423546552658, 'Y': 0.7507944107055664}, {'X': 0.28017738461494446, 'Y': 0.7507944107055664}, {'X': 0.28017738461494446, 'Y': 0.793085515499115}, {'X': 0.2248423546552658, 'Y': 0.793085515499115}]}, 'Id': '82b75948-7626-4451-9373-d34d374b9064'}, {'BlockType': 'WORD', 'Confidence': 78.5260238647461, 'Text': 'by', 'Geometry': {'BoundingBox': {'Width': 0.02047014981508255, 'Height': 0.0422334298491478, 'Left': 0.2830587327480316, 'Top': 0.7503672242164612}, 'Polygon': [{'X': 0.2830587327480316, 'Y': 0.7503672242164612}, {'X': 0.30352887511253357, 'Y': 0.7503672242164612}, {'X': 0.30352887511253357, 'Y': 0.7926006317138672}, {'X': 0.2830587327480316, 'Y': 0.7926006317138672}]}, 'Id': '03f75a7d-023b-4d5f-af80-2843d9d8ba63'}, {'BlockType': 'WORD', 'Confidence': 99.82003784179688, 'Text': 'increases', 'Geometry': {'BoundingBox': {'Width': 0.07781898975372314, 'Height': 0.03329123929142952, 'Left': 0.3062203824520111, 'Top': 0.7521143555641174}, 'Polygon': [{'X': 0.3062203824520111, 'Y': 0.7521143555641174}, {'X': 0.38403937220573425, 'Y': 0.7521143555641174}, {'X': 0.38403937220573425, 'Y': 0.7854055762290955}, {'X': 0.3062203824520111, 'Y': 0.7854055762290955}]}, 'Id': 'e8871286-9ace-4937-8b69-546c7ff2bd0e'}, {'BlockType': 'WORD', 'Confidence': 99.70703887939453, 'Text': 'in', 'Geometry': {'BoundingBox': {'Width': 0.015594960190355778, 'Height': 0.03387485072016716, 'Left': 0.3867565393447876, 'Top': 0.751059353351593}, 'Polygon': [{'X': 0.3867565393447876, 'Y': 0.751059353351593}, {'X': 0.4023514986038208, 'Y': 0.751059353351593}, {'X': 0.4023514986038208, 'Y': 0.7849342226982117}, {'X': 0.3867565393447876, 'Y': 0.7849342226982117}]}, 'Id': '7bdd25b6-aa47-4ac2-a5fd-0f7a730c5e8a'}, {'BlockType': 'WORD', 'Confidence': 99.62118530273438, 'Text': 'ICT,', 'Geometry': {'BoundingBox': {'Width': 0.03057287074625492, 'Height': 0.038891930133104324, 'Left': 0.40613028407096863, 'Top': 0.7508053183555603}, 'Polygon': [{'X': 0.40613028407096863, 'Y': 0.7508053183555603}, {'X': 0.4367031455039978, 'Y': 0.7508053183555603}, {'X': 0.4367031455039978, 'Y': 0.7896972298622131}, {'X': 0.40613028407096863, 'Y': 0.7896972298622131}]}, 'Id': 'ac871b5f-f991-4c7f-bf41-dd8524507dbc'}, {'BlockType': 'WORD', 'Confidence': 99.6249771118164, 'Text': 'With', 'Geometry': {'BoundingBox': {'Width': 0.03731083124876022, 'Height': 0.034410931169986725, 'Left': 0.5123572945594788, 'Top': 0.7506740689277649}, 'Polygon': [{'X': 0.5123572945594788, 'Y': 0.7506740689277649}, {'X': 0.5496681332588196, 'Y': 0.7506740689277649}, {'X': 0.5496681332588196, 'Y': 0.7850850224494934}, {'X': 0.5123572945594788, 'Y': 0.7850850224494934}]}, 'Id': '4972108d-5f13-4b22-bced-e812710642dc'}, {'BlockType': 'WORD', 'Confidence': 99.61862182617188, 'Text': 'lower', 'Geometry': {'BoundingBox': {'Width': 0.04641399905085564, 'Height': 0.03576482832431793, 'Left': 0.5525900721549988, 'Top': 0.7499402165412903}, 'Polygon': [{'X': 0.5525900721549988, 'Y': 0.7499402165412903}, {'X': 0.5990040898323059, 'Y': 0.7499402165412903}, {'X': 0.5990040898323059, 'Y': 0.785705029964447}, {'X': 0.5525900721549988, 'Y': 0.785705029964447}]}, 'Id': 'f8f3acd0-b502-4ffd-8151-ee781d62d195'}, {'BlockType': 'WORD', 'Confidence': 99.83992767333984, 'Text': 'contributions', 'Geometry': {'BoundingBox': {'Width': 0.10472620278596878, 'Height': 0.03419005870819092, 'Left': 0.6017075181007385, 'Top': 0.7509441375732422}, 'Polygon': [{'X': 0.6017075181007385, 'Y': 0.7509441375732422}, {'X': 0.7064337134361267, 'Y': 0.7509441375732422}, {'X': 0.7064337134361267, 'Y': 0.7851341962814331}, {'X': 0.6017075181007385, 'Y': 0.7851341962814331}]}, 'Id': '7aa6b17e-d95b-4dcb-bc92-b244a71b2d0e'}, {'BlockType': 'WORD', 'Confidence': 99.81131744384766, 'Text': 'from', 'Geometry': {'BoundingBox': {'Width': 0.03948869928717613, 'Height': 0.03431437164545059, 'Left': 0.7103170156478882, 'Top': 0.7509388327598572}, 'Polygon': [{'X': 0.7103170156478882, 'Y': 0.7509388327598572}, {'X': 0.7498056888580322, 'Y': 0.7509388327598572}, {'X': 0.7498056888580322, 'Y': 0.7852532267570496}, {'X': 0.7103170156478882, 'Y': 0.7852532267570496}]}, 'Id': '46cfbf4d-4b07-4111-a57a-6bc2508c5ca3'}, {'BlockType': 'WORD', 'Confidence': 99.68485260009766, 'Text': 'the', 'Geometry': {'BoundingBox': {'Width': 0.02716819941997528, 'Height': 0.03425315022468567, 'Left': 0.7530810832977295, 'Top': 0.7509930729866028}, 'Polygon': [{'X': 0.7530810832977295, 'Y': 0.7509930729866028}, {'X': 0.780249297618866, 'Y': 0.7509930729866028}, {'X': 0.780249297618866, 'Y': 0.7852462530136108}, {'X': 0.7530810832977295, 'Y': 0.7852462530136108}]}, 'Id': '4c745261-38ff-45b9-bb23-26594a08d820'}, {'BlockType': 'WORD', 'Confidence': 99.33527374267578, 'Text': 'associates,', 'Geometry': {'BoundingBox': {'Width': 0.08850409835577011, 'Height': 0.03717799857258797, 'Left': 0.783496081829071, 'Top': 0.7518793940544128}, 'Polygon': [{'X': 0.783496081829071, 'Y': 0.7518793940544128}, {'X': 0.8720002174377441, 'Y': 0.7518793940544128}, {'X': 0.8720002174377441, 'Y': 0.7890573740005493}, {'X': 0.783496081829071, 'Y': 0.7890573740005493}]}, 'Id': 'b49ec0c5-a773-431a-821b-8d33c170539f'}, {'BlockType': 'WORD', 'Confidence': 99.91941833496094, 'Text': 'underlying', 'Geometry': {'BoundingBox': {'Width': 0.08703599870204926, 'Height': 0.04354429990053177, 'Left': 0.8750147223472595, 'Top': 0.7501880526542664}, 'Polygon': [{'X': 0.8750147223472595, 'Y': 0.7501880526542664}, {'X': 0.9620506763458252, 'Y': 0.7501880526542664}, {'X': 0.9620506763458252, 'Y': 0.7937323451042175}, {'X': 0.8750147223472595, 'Y': 0.7937323451042175}]}, 'Id': '60a38723-2961-45d0-a5b3-7d9f9113827b'}, {'BlockType': 'WORD', 'Confidence': 99.92462158203125, 'Text': 'digita', 'Geometry': {'BoundingBox': {'Width': 0.051140107214450836, 'Height': 0.043142758309841156, 'Left': 0.01698330231010914, 'Top': 0.8033212423324585}, 'Polygon': [{'X': 0.01698330231010914, 'Y': 0.8033212423324585}, {'X': 0.06812340766191483, 'Y': 0.8033212423324585}, {'X': 0.06812340766191483, 'Y': 0.8464639782905579}, {'X': 0.01698330231010914, 'Y': 0.8464639782905579}]}, 'Id': 'cf1bd6da-2d7d-43c2-8556-837b8e4489ab'}, {'BlockType': 'WORD', 'Confidence': 95.0552978515625, 'Text': 'services', 'Geometry': {'BoundingBox': {'Width': 0.06525812298059464, 'Height': 0.03411396965384483, 'Left': 0.07066584378480911, 'Top': 0.8041096329689026}, 'Polygon': [{'X': 0.07066584378480911, 'Y': 0.8041096329689026}, {'X': 0.13592396676540375, 'Y': 0.8041096329689026}, {'X': 0.13592396676540375, 'Y': 0.8382235765457153}, {'X': 0.07066584378480911, 'Y': 0.8382235765457153}]}, 'Id': '384d4df5-c0a1-4204-ba34-8d51e2f0fa75'}, {'BlockType': 'WORD', 'Confidence': 99.66993713378906, 'Text': 'and', 'Geometry': {'BoundingBox': {'Width': 0.033312760293483734, 'Height': 0.03398919850587845, 'Left': 0.13946619629859924, 'Top': 0.8041195869445801}, 'Polygon': [{'X': 0.13946619629859924, 'Y': 0.8041195869445801}, {'X': 0.17277896404266357, 'Y': 0.8041195869445801}, {'X': 0.17277896404266357, 'Y': 0.8381087779998779}, {'X': 0.13946619629859924, 'Y': 0.8381087779998779}]}, 'Id': 'f85cfa9c-e104-4ff8-91b6-2c252fd1dc8e'}, {'BlockType': 'WORD', 'Confidence': 99.92134094238281, 'Text': 'equipment', 'Geometry': {'BoundingBox': {'Width': 0.0886635035276413, 'Height': 0.04202570021152496, 'Left': 0.17567889392375946, 'Top': 0.8036922812461853}, 'Polygon': [{'X': 0.17567889392375946, 'Y': 0.8036922812461853}, {'X': 0.26434239745140076, 'Y': 0.8036922812461853}, {'X': 0.26434239745140076, 'Y': 0.8457180261611938}, {'X': 0.17567889392375946, 'Y': 0.8457180261611938}]}, 'Id': '852cbd82-8d4a-4902-8449-3ec268b4575a'}, {'BlockType': 'WORD', 'Confidence': 98.30554962158203, 'Text': 'sales.', 'Geometry': {'BoundingBox': {'Width': 0.044882919639348984, 'Height': 0.034703630954027176, 'Left': 0.267845094203949, 'Top': 0.8035839200019836}, 'Polygon': [{'X': 0.267845094203949, 'Y': 0.8035839200019836}, {'X': 0.31272801756858826, 'Y': 0.8035839200019836}, {'X': 0.31272801756858826, 'Y': 0.8382875323295593}, {'X': 0.267845094203949, 'Y': 0.8382875323295593}]}, 'Id': 'aa4141bc-27be-46e6-a305-aecf28b8112e'}, {'BlockType': 'WORD', 'Confidence': 99.83185577392578, 'Text': 'However,', 'Geometry': {'BoundingBox': {'Width': 0.07520067691802979, 'Height': 0.03855939954519272, 'Left': 0.316496878862381, 'Top': 0.8036736249923706}, 'Polygon': [{'X': 0.316496878862381, 'Y': 0.8036736249923706}, {'X': 0.39169755578041077, 'Y': 0.8036736249923706}, {'X': 0.39169755578041077, 'Y': 0.8422330021858215}, {'X': 0.316496878862381, 'Y': 0.8422330021858215}]}, 'Id': '435fc739-edf9-468b-9881-b351a4cff94b'}, {'BlockType': 'WORD', 'Confidence': 99.89070129394531, 'Text': 'EBITDA', 'Geometry': {'BoundingBox': {'Width': 0.06023535877466202, 'Height': 0.03528650104999542, 'Left': 0.396081805229187, 'Top': 0.8032556176185608}, 'Polygon': [{'X': 0.396081805229187, 'Y': 0.8032556176185608}, {'X': 0.45631715655326843, 'Y': 0.8032556176185608}, {'X': 0.45631715655326843, 'Y': 0.838542103767395}, {'X': 0.396081805229187, 'Y': 0.838542103767395}]}, 'Id': '5c5e1ffd-7287-4bb9-87cc-5172fc61f601'}, {'BlockType': 'WORD', 'Confidence': 99.68167877197266, 'Text': 'net', 'Geometry': {'BoundingBox': {'Width': 0.026837339624762535, 'Height': 0.03171690180897713, 'Left': 0.5131197571754456, 'Top': 0.8026880025863647}, 'Polygon': [{'X': 0.5131197571754456, 'Y': 0.8026880025863647}, {'X': 0.5399571061134338, 'Y': 0.8026880025863647}, {'X': 0.5399571061134338, 'Y': 0.8344048857688904}, {'X': 0.5131197571754456, 'Y': 0.8344048857688904}]}, 'Id': '79e46018-f19c-4ec0-a9c4-97676b0c0201'}, {'BlockType': 'WORD', 'Confidence': 99.79629516601562, 'Text': 'profit', 'Geometry': {'BoundingBox': {'Width': 0.045056238770484924, 'Height': 0.04298466071486473, 'Left': 0.5423913598060608, 'Top': 0.8002248406410217}, 'Polygon': [{'X': 0.5423913598060608, 'Y': 0.8002248406410217}, {'X': 0.5874475836753845, 'Y': 0.8002248406410217}, {'X': 0.5874475836753845, 'Y': 0.8432095050811768}, {'X': 0.5423913598060608, 'Y': 0.8432095050811768}]}, 'Id': 'b724ed03-c90e-4248-a406-aafd183c9372'}, {'BlockType': 'WORD', 'Confidence': 99.13432312011719, 'Text': 'declined', 'Geometry': {'BoundingBox': {'Width': 0.06985989958047867, 'Height': 0.03483759984374046, 'Left': 0.5904209017753601, 'Top': 0.8004876375198364}, 'Polygon': [{'X': 0.5904209017753601, 'Y': 0.8004876375198364}, {'X': 0.6602808237075806, 'Y': 0.8004876375198364}, {'X': 0.6602808237075806, 'Y': 0.8353252410888672}, {'X': 0.5904209017753601, 'Y': 0.8353252410888672}]}, 'Id': '2ecd97f2-d3ce-4888-9121-df56ab09442c'}, {'BlockType': 'WORD', 'Confidence': 99.885009765625, 'Text': 'by', 'Geometry': {'BoundingBox': {'Width': 0.020660649985074997, 'Height': 0.041675809770822525, 'Left': 0.6635728478431702, 'Top': 0.8007086515426636}, 'Polygon': [{'X': 0.6635728478431702, 'Y': 0.8007086515426636}, {'X': 0.6842334866523743, 'Y': 0.8007086515426636}, {'X': 0.6842334866523743, 'Y': 0.8423844575881958}, {'X': 0.6635728478431702, 'Y': 0.8423844575881958}]}, 'Id': 'c37df2ae-0d82-4c6e-bf72-86dadc163b94'}, {'BlockType': 'WORD', 'Confidence': 84.32263946533203, 'Text': '21%.', 'Geometry': {'BoundingBox': {'Width': 0.031014839187264442, 'Height': 0.03310374915599823, 'Left': 0.6871740818023682, 'Top': 0.8012524843215942}, 'Polygon': [{'X': 0.6871740818023682, 'Y': 0.8012524843215942}, {'X': 0.7181889414787292, 'Y': 0.8012524843215942}, {'X': 0.7181889414787292, 'Y': 0.8343562483787537}, {'X': 0.6871740818023682, 'Y': 0.8343562483787537}]}, 'Id': '077942c9-f1c1-48d8-b80e-6136dd2ba543'}, {'BlockType': 'WORD', 'Confidence': 99.76844024658203, 'Text': 'Net', 'Geometry': {'BoundingBox': {'Width': 0.028765739873051643, 'Height': 0.033850230276584625, 'Left': 0.7226094007492065, 'Top': 0.8010621666908264}, 'Polygon': [{'X': 0.7226094007492065, 'Y': 0.8010621666908264}, {'X': 0.751375138759613, 'Y': 0.8010621666908264}, {'X': 0.751375138759613, 'Y': 0.8349124193191528}, {'X': 0.7226094007492065, 'Y': 0.8349124193191528}]}, 'Id': '6913c5b6-54aa-461f-9b02-b36023ca4a91'}, {'BlockType': 'WORD', 'Confidence': 99.90185546875, 'Text': 'profit', 'Geometry': {'BoundingBox': {'Width': 0.045099351555109024, 'Height': 0.04242533817887306, 'Left': 0.7542314529418945, 'Top': 0.80045086145401}, 'Polygon': [{'X': 0.7542314529418945, 'Y': 0.80045086145401}, {'X': 0.7993307709693909, 'Y': 0.80045086145401}, {'X': 0.7993307709693909, 'Y': 0.8428761959075928}, {'X': 0.7542314529418945, 'Y': 0.8428761959075928}]}, 'Id': '84fbe61d-995b-4f0e-ab7a-7eaabe97e088'}, {'BlockType': 'WORD', 'Confidence': 96.15084075927734, 'Text': 'was', 'Geometry': {'BoundingBox': {'Width': 0.0334646999835968, 'Height': 0.025807080790400505, 'Left': 0.8014124035835266, 'Top': 0.8088804483413696}, 'Polygon': [{'X': 0.8014124035835266, 'Y': 0.8088804483413696}, {'X': 0.834877073764801, 'Y': 0.8088804483413696}, {'X': 0.834877073764801, 'Y': 0.8346875309944153}, {'X': 0.8014124035835266, 'Y': 0.8346875309944153}]}, 'Id': 'e8eb6f61-1603-4a10-b862-8edde1c3dde1'}, {'BlockType': 'WORD', 'Confidence': 98.2176284790039, 'Text': 'S$3.10', 'Geometry': {'BoundingBox': {'Width': 0.049774348735809326, 'Height': 0.0350647009909153, 'Left': 0.838146448135376, 'Top': 0.800584614276886}, 'Polygon': [{'X': 0.838146448135376, 'Y': 0.800584614276886}, {'X': 0.8879207968711853, 'Y': 0.800584614276886}, {'X': 0.8879207968711853, 'Y': 0.835649311542511}, {'X': 0.838146448135376, 'Y': 0.835649311542511}]}, 'Id': 'bce03da7-3049-4b81-956c-0c2253e951e7'}, {'BlockType': 'WORD', 'Confidence': 98.44943237304688, 'Text': 'billion,', 'Geometry': {'BoundingBox': {'Width': 0.05304485931992531, 'Height': 0.03952540084719658, 'Left': 0.89085453748703, 'Top': 0.8004137873649597}, 'Polygon': [{'X': 0.89085453748703, 'Y': 0.8004137873649597}, {'X': 0.943899393081665, 'Y': 0.8004137873649597}, {'X': 0.943899393081665, 'Y': 0.8399391770362854}, {'X': 0.89085453748703, 'Y': 0.8399391770362854}]}, 'Id': 'f1c913f1-a0c6-49dd-9f14-c580b4c3e667'}, {'BlockType': 'WORD', 'Confidence': 98.07852172851562, 'Text': 'was', 'Geometry': {'BoundingBox': {'Width': 0.0340363010764122, 'Height': 0.025946639478206635, 'Left': 0.016350924968719482, 'Top': 0.8615936636924744}, 'Polygon': [{'X': 0.016350924968719482, 'Y': 0.8615936636924744}, {'X': 0.05038722604513168, 'Y': 0.8615936636924744}, {'X': 0.05038722604513168, 'Y': 0.8875402808189392}, {'X': 0.016350924968719482, 'Y': 0.8875402808189392}]}, 'Id': '8f62e47a-685c-4e13-8779-0d8a13ba7533'}, {'BlockType': 'WORD', 'Confidence': 99.51466369628906, 'Text': 'down', 'Geometry': {'BoundingBox': {'Width': 0.046970535069704056, 'Height': 0.03371033817529678, 'Left': 0.05299833416938782, 'Top': 0.853794276714325}, 'Polygon': [{'X': 0.05299833416938782, 'Y': 0.853794276714325}, {'X': 0.09996887296438217, 'Y': 0.853794276714325}, {'X': 0.09996887296438217, 'Y': 0.8875046372413635}, {'X': 0.05299833416938782, 'Y': 0.8875046372413635}]}, 'Id': '502ffc23-3729-413a-bf4c-a2cc47111031'}, {'BlockType': 'WORD', 'Confidence': 99.28392028808594, 'Text': '3.9%', 'Geometry': {'BoundingBox': {'Width': 0.03499573841691017, 'Height': 0.03395700082182884, 'Left': 0.10378748923540115, 'Top': 0.8540725111961365}, 'Polygon': [{'X': 0.10378748923540115, 'Y': 0.8540725111961365}, {'X': 0.13878323137760162, 'Y': 0.8540725111961365}, {'X': 0.13878323137760162, 'Y': 0.8880295157432556}, {'X': 0.10378748923540115, 'Y': 0.8880295157432556}]}, 'Id': '5e09a546-df84-412f-9fb2-20386133def9'}, {'BlockType': 'WORD', 'Confidence': 99.84508514404297, 'Text': 'mainly', 'Geometry': {'BoundingBox': {'Width': 0.055545009672641754, 'Height': 0.04192943125963211, 'Left': 0.14196504652500153, 'Top': 0.853428065776825}, 'Polygon': [{'X': 0.14196504652500153, 'Y': 0.853428065776825}, {'X': 0.19751006364822388, 'Y': 0.853428065776825}, {'X': 0.19751006364822388, 'Y': 0.8953574895858765}, {'X': 0.14196504652500153, 'Y': 0.8953574895858765}]}, 'Id': '6fff319a-ac2a-48f4-858b-f53542b1f053'}, {'BlockType': 'WORD', 'Confidence': 99.85906219482422, 'Text': 'due', 'Geometry': {'BoundingBox': {'Width': 0.03245767951011658, 'Height': 0.03429035842418671, 'Left': 0.2003663182258606, 'Top': 0.8534365892410278}, 'Polygon': [{'X': 0.2003663182258606, 'Y': 0.8534365892410278}, {'X': 0.23282399773597717, 'Y': 0.8534365892410278}, {'X': 0.23282399773597717, 'Y': 0.8877269625663757}, {'X': 0.2003663182258606, 'Y': 0.8877269625663757}]}, 'Id': 'aa736274-c1b1-4545-b6d5-77daa7246d8d'}, {'BlockType': 'WORD', 'Confidence': 99.84001159667969, 'Text': 'to', 'Geometry': {'BoundingBox': {'Width': 0.016931070014834404, 'Height': 0.03250785171985626, 'Left': 0.23570506274700165, 'Top': 0.8556375503540039}, 'Polygon': [{'X': 0.23570506274700165, 'Y': 0.8556375503540039}, {'X': 0.2526361346244812, 'Y': 0.8556375503540039}, {'X': 0.2526361346244812, 'Y': 0.888145387172699}, {'X': 0.23570506274700165, 'Y': 0.888145387172699}]}, 'Id': '0bd4d0be-db7b-4ab2-95cb-7922fc71dc4c'}, {'BlockType': 'WORD', 'Confidence': 99.67591094970703, 'Text': 'lower', 'Geometry': {'BoundingBox': {'Width': 0.0457611009478569, 'Height': 0.0341280996799469, 'Left': 0.25595301389694214, 'Top': 0.8531978726387024}, 'Polygon': [{'X': 0.25595301389694214, 'Y': 0.8531978726387024}, {'X': 0.30171409249305725, 'Y': 0.8531978726387024}, {'X': 0.30171409249305725, 'Y': 0.8873260021209717}, {'X': 0.25595301389694214, 'Y': 0.8873260021209717}]}, 'Id': 'b12f941d-7a59-41e9-8ad4-218f0e12568b'}, {'BlockType': 'WORD', 'Confidence': 99.87113189697266, 'Text': 'legacy', 'Geometry': {'BoundingBox': {'Width': 0.054435841739177704, 'Height': 0.043283939361572266, 'Left': 0.3049182891845703, 'Top': 0.852907657623291}, 'Polygon': [{'X': 0.3049182891845703, 'Y': 0.852907657623291}, {'X': 0.3593541383743286, 'Y': 0.852907657623291}, {'X': 0.3593541383743286, 'Y': 0.8961915969848633}, {'X': 0.3049182891845703, 'Y': 0.8961915969848633}]}, 'Id': 'b70aa4b3-e96e-4631-9fc6-044cebd9cf8a'}, {'BlockType': 'WORD', 'Confidence': 99.73777770996094, 'Text': 'carriage', 'Geometry': {'BoundingBox': {'Width': 0.06893160939216614, 'Height': 0.0419730618596077, 'Left': 0.36323511600494385, 'Top': 0.853386640548706}, 'Polygon': [{'X': 0.36323511600494385, 'Y': 0.853386640548706}, {'X': 0.43216672539711, 'Y': 0.853386640548706}, {'X': 0.43216672539711, 'Y': 0.8953596949577332}, {'X': 0.36323511600494385, 'Y': 0.8953596949577332}]}, 'Id': 'e35d6afc-3627-42dc-8f08-230d8c4e287e'}, {'BlockType': 'WORD', 'Confidence': 99.3107681274414, 'Text': 'down', 'Geometry': {'BoundingBox': {'Width': 0.045049071311950684, 'Height': 0.0347152017056942, 'Left': 0.512860894203186, 'Top': 0.8532217144966125}, 'Polygon': [{'X': 0.512860894203186, 'Y': 0.8532217144966125}, {'X': 0.5579099655151367, 'Y': 0.8532217144966125}, {'X': 0.5579099655151367, 'Y': 0.8879368901252747}, {'X': 0.512860894203186, 'Y': 0.8879368901252747}]}, 'Id': 'ad062d05-676a-448c-b21a-367faab90ccd'}, {'BlockType': 'WORD', 'Confidence': 77.62334442138672, 'Text': '44%', 'Geometry': {'BoundingBox': {'Width': 0.033230431377887726, 'Height': 0.03333180025219917, 'Left': 0.5615338683128357, 'Top': 0.8544034957885742}, 'Polygon': [{'X': 0.5615338683128357, 'Y': 0.8544034957885742}, {'X': 0.5947642922401428, 'Y': 0.8544034957885742}, {'X': 0.5947642922401428, 'Y': 0.8877353072166443}, {'X': 0.5615338683128357, 'Y': 0.8877353072166443}]}, 'Id': '21cae79e-2a08-409f-8992-cbeb4d9c8c66'}, {'BlockType': 'WORD', 'Confidence': 99.84619140625, 'Text': 'from', 'Geometry': {'BoundingBox': {'Width': 0.039723701775074005, 'Height': 0.03545219823718071, 'Left': 0.5972611904144287, 'Top': 0.8529477119445801}, 'Polygon': [{'X': 0.5972611904144287, 'Y': 0.8529477119445801}, {'X': 0.6369848847389221, 'Y': 0.8529477119445801}, {'X': 0.6369848847389221, 'Y': 0.8883998990058899}, {'X': 0.5972611904144287, 'Y': 0.8883998990058899}]}, 'Id': 'c0b04d30-13b8-4488-bd37-69cc9dd157a7'}, {'BlockType': 'WORD', 'Confidence': 99.502685546875, 'Text': 'FY', 'Geometry': {'BoundingBox': {'Width': 0.021653560921549797, 'Height': 0.034245461225509644, 'Left': 0.6404765248298645, 'Top': 0.8532054424285889}, 'Polygon': [{'X': 0.6404765248298645, 'Y': 0.8532054424285889}, {'X': 0.6621300578117371, 'Y': 0.8532054424285889}, {'X': 0.6621300578117371, 'Y': 0.8874508738517761}, {'X': 0.6404765248298645, 'Y': 0.8874508738517761}]}, 'Id': '6b02225c-52bd-497d-b7d2-8efe9c9029c5'}, {'BlockType': 'WORD', 'Confidence': 99.9156723022461, 'Text': '2018', 'Geometry': {'BoundingBox': {'Width': 0.03697320073843002, 'Height': 0.033081699162721634, 'Left': 0.6645272970199585, 'Top': 0.8548179268836975}, 'Polygon': [{'X': 0.6645272970199585, 'Y': 0.8548179268836975}, {'X': 0.7015004754066467, 'Y': 0.8548179268836975}, {'X': 0.7015004754066467, 'Y': 0.8878995776176453}, {'X': 0.6645272970199585, 'Y': 0.8878995776176453}]}, 'Id': 'b0c8489b-1bea-4f00-acf1-1cea8c77d9fe'}, {'BlockType': 'WORD', 'Confidence': 99.45637512207031, 'Text': 'which', 'Geometry': {'BoundingBox': {'Width': 0.049048129469156265, 'Height': 0.03646399825811386, 'Left': 0.7048222422599792, 'Top': 0.8533614277839661}, 'Polygon': [{'X': 0.7048222422599792, 'Y': 0.8533614277839661}, {'X': 0.7538703680038452, 'Y': 0.8533614277839661}, {'X': 0.7538703680038452, 'Y': 0.8898254036903381}, {'X': 0.7048222422599792, 'Y': 0.8898254036903381}]}, 'Id': '57458eb8-322a-4221-800d-1d28e3be8611'}, {'BlockType': 'WORD', 'Confidence': 99.89339447021484, 'Text': 'included', 'Geometry': {'BoundingBox': {'Width': 0.0701533704996109, 'Height': 0.03498835116624832, 'Left': 0.7568852305412292, 'Top': 0.8527339100837708}, 'Polygon': [{'X': 0.7568852305412292, 'Y': 0.8527339100837708}, {'X': 0.827038586139679, 'Y': 0.8527339100837708}, {'X': 0.827038586139679, 'Y': 0.8877222537994385}, {'X': 0.7568852305412292, 'Y': 0.8877222537994385}]}, 'Id': '8c93d0da-9dc6-49e4-b4a2-60462957c775'}, {'BlockType': 'WORD', 'Confidence': 97.1101303100586, 'Text': 'an', 'Geometry': {'BoundingBox': {'Width': 0.02189050056040287, 'Height': 0.02569109946489334, 'Left': 0.8304638266563416, 'Top': 0.8614075183868408}, 'Polygon': [{'X': 0.8304638266563416, 'Y': 0.8614075183868408}, {'X': 0.8523542881011963, 'Y': 0.8614075183868408}, {'X': 0.8523542881011963, 'Y': 0.8870986104011536}, {'X': 0.8304638266563416, 'Y': 0.8870986104011536}]}, 'Id': '16912bc5-eaab-472e-851d-0e45cb7b214d'}, {'BlockType': 'WORD', 'Confidence': 99.92862701416016, 'Text': 'exceptional', 'Geometry': {'BoundingBox': {'Width': 0.09269160032272339, 'Height': 0.042789798229932785, 'Left': 0.8562422394752502, 'Top': 0.8523427844047546}, 'Polygon': [{'X': 0.8562422394752502, 'Y': 0.8523427844047546}, {'X': 0.9489338397979736, 'Y': 0.8523427844047546}, {'X': 0.9489338397979736, 'Y': 0.8951326012611389}, {'X': 0.8562422394752502, 'Y': 0.8951326012611389}]}, 'Id': 'c9d51836-7713-47cd-b484-727ed1283a3b'}, {'BlockType': 'WORD', 'Confidence': 92.32273864746094, 'Text': 'services', 'Geometry': {'BoundingBox': {'Width': 0.0644150897860527, 'Height': 0.03327875956892967, 'Left': 0.01697070337831974, 'Top': 0.907619297504425}, 'Polygon': [{'X': 0.01697070337831974, 'Y': 0.907619297504425}, {'X': 0.0813857913017273, 'Y': 0.907619297504425}, {'X': 0.0813857913017273, 'Y': 0.940898060798645}, {'X': 0.01697070337831974, 'Y': 0.940898060798645}]}, 'Id': '86c230cd-2490-4661-b60d-ccb1c7aa9fbb'}, {'BlockType': 'WORD', 'Confidence': 99.8978500366211, 'Text': 'especially', 'Geometry': {'BoundingBox': {'Width': 0.08017559349536896, 'Height': 0.04213660955429077, 'Left': 0.08539034426212311, 'Top': 0.9061417579650879}, 'Polygon': [{'X': 0.08539034426212311, 'Y': 0.9061417579650879}, {'X': 0.16556593775749207, 'Y': 0.9061417579650879}, {'X': 0.16556593775749207, 'Y': 0.9482783675193787}, {'X': 0.08539034426212311, 'Y': 0.9482783675193787}]}, 'Id': 'fd6217a0-568d-4a6e-8977-ed5b61d508de'}, {'BlockType': 'WORD', 'Confidence': 98.14353942871094, 'Text': 'voice,', 'Geometry': {'BoundingBox': {'Width': 0.04622406139969826, 'Height': 0.03933053836226463, 'Left': 0.16884002089500427, 'Top': 0.9065969586372375}, 'Polygon': [{'X': 0.16884002089500427, 'Y': 0.9065969586372375}, {'X': 0.21506407856941223, 'Y': 0.9065969586372375}, {'X': 0.21506407856941223, 'Y': 0.9459275007247925}, {'X': 0.16884002089500427, 'Y': 0.9459275007247925}]}, 'Id': '2304551b-0d58-4dfd-9f9b-dabbb2f6f430'}, {'BlockType': 'WORD', 'Confidence': 99.69917297363281, 'Text': 'and', 'Geometry': {'BoundingBox': {'Width': 0.03291162848472595, 'Height': 0.03303949907422066, 'Left': 0.2190166711807251, 'Top': 0.9068747758865356}, 'Polygon': [{'X': 0.2190166711807251, 'Y': 0.9068747758865356}, {'X': 0.25192829966545105, 'Y': 0.9068747758865356}, {'X': 0.25192829966545105, 'Y': 0.9399142861366272}, {'X': 0.2190166711807251, 'Y': 0.9399142861366272}]}, 'Id': '26857798-a0a4-432e-b066-23688e44c648'}, {'BlockType': 'WORD', 'Confidence': 99.94793701171875, 'Text': 'price', 'Geometry': {'BoundingBox': {'Width': 0.0417841412127018, 'Height': 0.04262259975075722, 'Left': 0.254090279340744, 'Top': 0.9060302972793579}, 'Polygon': [{'X': 0.254090279340744, 'Y': 0.9060302972793579}, {'X': 0.2958744168281555, 'Y': 0.9060302972793579}, {'X': 0.2958744168281555, 'Y': 0.9486529231071472}, {'X': 0.254090279340744, 'Y': 0.9486529231071472}]}, 'Id': '5aa02f98-693e-4734-a275-1133f3d5b63d'}, {'BlockType': 'WORD', 'Confidence': 99.4027099609375, 'Text': 'erosion.', 'Geometry': {'BoundingBox': {'Width': 0.06445357203483582, 'Height': 0.034345950931310654, 'Left': 0.29968395829200745, 'Top': 0.9070091247558594}, 'Polygon': [{'X': 0.29968395829200745, 'Y': 0.9070091247558594}, {'X': 0.36413753032684326, 'Y': 0.9070091247558594}, {'X': 0.36413753032684326, 'Y': 0.9413550496101379}, {'X': 0.29968395829200745, 'Y': 0.9413550496101379}]}, 'Id': 'ec7a72db-4dda-43a4-a1e9-dd0ed322e1c8'}, {'BlockType': 'WORD', 'Confidence': 99.50448608398438, 'Text': 'gain', 'Geometry': {'BoundingBox': {'Width': 0.036922160536050797, 'Height': 0.042806100100278854, 'Left': 0.5126543045043945, 'Top': 0.9064732193946838}, 'Polygon': [{'X': 0.5126543045043945, 'Y': 0.9064732193946838}, {'X': 0.549576461315155, 'Y': 0.9064732193946838}, {'X': 0.549576461315155, 'Y': 0.9492793083190918}, {'X': 0.5126543045043945, 'Y': 0.9492793083190918}]}, 'Id': '2e3fd252-a6d6-4095-9156-1e60c663ea0f'}, {'BlockType': 'WORD', 'Confidence': 99.7219467163086, 'Text': 'from', 'Geometry': {'BoundingBox': {'Width': 0.039914440363645554, 'Height': 0.03432825952768326, 'Left': 0.5521559119224548, 'Top': 0.9062350392341614}, 'Polygon': [{'X': 0.5521559119224548, 'Y': 0.9062350392341614}, {'X': 0.5920703411102295, 'Y': 0.9062350392341614}, {'X': 0.5920703411102295, 'Y': 0.9405633211135864}, {'X': 0.5521559119224548, 'Y': 0.9405633211135864}]}, 'Id': 'ff454554-ab68-404b-8b34-d6fa91f1ea6b'}, {'BlockType': 'WORD', 'Confidence': 99.58306884765625, 'Text': 'the', 'Geometry': {'BoundingBox': {'Width': 0.027131550014019012, 'Height': 0.03356340155005455, 'Left': 0.595029890537262, 'Top': 0.9063339829444885}, 'Polygon': [{'X': 0.595029890537262, 'Y': 0.9063339829444885}, {'X': 0.6221614480018616, 'Y': 0.9063339829444885}, {'X': 0.6221614480018616, 'Y': 0.9398974180221558}, {'X': 0.595029890537262, 'Y': 0.9398974180221558}]}, 'Id': '56e8fade-8279-47b4-b583-3f27818ead93'}, {'BlockType': 'WORD', 'Confidence': 99.8893814086914, 'Text': 'divestment', 'Geometry': {'BoundingBox': {'Width': 0.08880674839019775, 'Height': 0.03347510099411011, 'Left': 0.6261530518531799, 'Top': 0.9066023826599121}, 'Polygon': [{'X': 0.6261530518531799, 'Y': 0.9066023826599121}, {'X': 0.7149598002433777, 'Y': 0.9066023826599121}, {'X': 0.7149598002433777, 'Y': 0.9400774836540222}, {'X': 0.6261530518531799, 'Y': 0.9400774836540222}]}, 'Id': 'aae166ac-02aa-4ad1-83ef-5309ad695e7d'}, {'BlockType': 'WORD', 'Confidence': 99.27355194091797, 'Text': 'of', 'Geometry': {'BoundingBox': {'Width': 0.01732330024242401, 'Height': 0.034214701503515244, 'Left': 0.7184852957725525, 'Top': 0.9057952761650085}, 'Polygon': [{'X': 0.7184852957725525, 'Y': 0.9057952761650085}, {'X': 0.7358086109161377, 'Y': 0.9057952761650085}, {'X': 0.7358086109161377, 'Y': 0.9400100111961365}, {'X': 0.7184852957725525, 'Y': 0.9400100111961365}]}, 'Id': '8a30d412-fffe-45d2-a014-288d851c1a8d'}, {'BlockType': 'WORD', 'Confidence': 99.8604965209961, 'Text': 'units', 'Geometry': {'BoundingBox': {'Width': 0.0389057993888855, 'Height': 0.03312800079584122, 'Left': 0.7384657263755798, 'Top': 0.9073750972747803}, 'Polygon': [{'X': 0.7384657263755798, 'Y': 0.9073750972747803}, {'X': 0.7773715257644653, 'Y': 0.9073750972747803}, {'X': 0.7773715257644653, 'Y': 0.9405031204223633}, {'X': 0.7384657263755798, 'Y': 0.9405031204223633}]}, 'Id': '8f3976a5-03c3-4253-aeff-5c6d47bc769a'}, {'BlockType': 'WORD', 'Confidence': 99.715576171875, 'Text': 'in', 'Geometry': {'BoundingBox': {'Width': 0.015041669830679893, 'Height': 0.03391589969396591, 'Left': 0.7805113196372986, 'Top': 0.906243622303009}, 'Polygon': [{'X': 0.7805113196372986, 'Y': 0.906243622303009}, {'X': 0.7955529689788818, 'Y': 0.906243622303009}, {'X': 0.7955529689788818, 'Y': 0.9401594996452332}, {'X': 0.7805113196372986, 'Y': 0.9401594996452332}]}, 'Id': '788c7453-2695-4cce-828c-41bd53995171'}, {'BlockType': 'WORD', 'Confidence': 99.00039672851562, 'Text': 'NetLink', 'Geometry': {'BoundingBox': {'Width': 0.060005128383636475, 'Height': 0.0327533595263958, 'Left': 0.7994135022163391, 'Top': 0.9067791104316711}, 'Polygon': [{'X': 0.7994135022163391, 'Y': 0.9067791104316711}, {'X': 0.8594186305999756, 'Y': 0.9067791104316711}, {'X': 0.8594186305999756, 'Y': 0.939532458782196}, {'X': 0.7994135022163391, 'Y': 0.939532458782196}]}, 'Id': '538ff51a-4821-47b7-92a8-8ee4fd3d89d2'}, {'BlockType': 'WORD', 'Confidence': 99.12657928466797, 'Text': 'Trust.', 'Geometry': {'BoundingBox': {'Width': 0.043727800250053406, 'Height': 0.034022510051727295, 'Left': 0.8612878918647766, 'Top': 0.9065053462982178}, 'Polygon': [{'X': 0.8612878918647766, 'Y': 0.9065053462982178}, {'X': 0.9050157070159912, 'Y': 0.9065053462982178}, {'X': 0.9050157070159912, 'Y': 0.9405278563499451}, {'X': 0.8612878918647766, 'Y': 0.9405278563499451}]}, 'Id': '2f313707-1d09-4190-8755-9884b8d8a792'}]\n"
     ]
    }
   ],
   "source": [
    "print(response['Blocks'])"
   ]
  },
  {
   "cell_type": "code",
   "execution_count": null,
   "metadata": {},
   "outputs": [],
   "source": []
  },
  {
   "cell_type": "code",
   "execution_count": null,
   "metadata": {},
   "outputs": [],
   "source": []
  },
  {
   "cell_type": "code",
   "execution_count": null,
   "metadata": {},
   "outputs": [],
   "source": []
  },
  {
   "cell_type": "code",
   "execution_count": null,
   "metadata": {},
   "outputs": [],
   "source": []
  },
  {
   "cell_type": "code",
   "execution_count": null,
   "metadata": {},
   "outputs": [],
   "source": []
  },
  {
   "cell_type": "code",
   "execution_count": null,
   "metadata": {},
   "outputs": [],
   "source": []
  },
  {
   "cell_type": "code",
   "execution_count": null,
   "metadata": {},
   "outputs": [],
   "source": []
  },
  {
   "cell_type": "code",
   "execution_count": null,
   "metadata": {},
   "outputs": [],
   "source": []
  },
  {
   "cell_type": "code",
   "execution_count": null,
   "metadata": {},
   "outputs": [],
   "source": []
  },
  {
   "cell_type": "code",
   "execution_count": null,
   "metadata": {},
   "outputs": [],
   "source": []
  },
  {
   "cell_type": "code",
   "execution_count": null,
   "metadata": {},
   "outputs": [],
   "source": []
  },
  {
   "cell_type": "code",
   "execution_count": null,
   "metadata": {},
   "outputs": [],
   "source": []
  },
  {
   "cell_type": "code",
   "execution_count": null,
   "metadata": {},
   "outputs": [],
   "source": []
  },
  {
   "cell_type": "code",
   "execution_count": null,
   "metadata": {},
   "outputs": [],
   "source": []
  },
  {
   "cell_type": "code",
   "execution_count": null,
   "metadata": {},
   "outputs": [],
   "source": []
  },
  {
   "cell_type": "code",
   "execution_count": null,
   "metadata": {},
   "outputs": [],
   "source": []
  },
  {
   "cell_type": "code",
   "execution_count": null,
   "metadata": {},
   "outputs": [],
   "source": []
  },
  {
   "cell_type": "code",
   "execution_count": null,
   "metadata": {},
   "outputs": [],
   "source": []
  },
  {
   "cell_type": "code",
   "execution_count": null,
   "metadata": {},
   "outputs": [],
   "source": []
  },
  {
   "cell_type": "code",
   "execution_count": null,
   "metadata": {},
   "outputs": [],
   "source": []
  },
  {
   "cell_type": "code",
   "execution_count": null,
   "metadata": {},
   "outputs": [],
   "source": []
  },
  {
   "cell_type": "code",
   "execution_count": null,
   "metadata": {},
   "outputs": [],
   "source": []
  },
  {
   "cell_type": "code",
   "execution_count": null,
   "metadata": {},
   "outputs": [],
   "source": []
  },
  {
   "cell_type": "code",
   "execution_count": null,
   "metadata": {},
   "outputs": [],
   "source": []
  },
  {
   "cell_type": "code",
   "execution_count": null,
   "metadata": {},
   "outputs": [],
   "source": []
  },
  {
   "cell_type": "code",
   "execution_count": null,
   "metadata": {},
   "outputs": [],
   "source": []
  },
  {
   "cell_type": "code",
   "execution_count": null,
   "metadata": {},
   "outputs": [],
   "source": []
  },
  {
   "cell_type": "code",
   "execution_count": null,
   "metadata": {},
   "outputs": [],
   "source": []
  },
  {
   "cell_type": "code",
   "execution_count": null,
   "metadata": {},
   "outputs": [],
   "source": []
  },
  {
   "cell_type": "code",
   "execution_count": null,
   "metadata": {},
   "outputs": [],
   "source": []
  },
  {
   "cell_type": "code",
   "execution_count": null,
   "metadata": {},
   "outputs": [],
   "source": []
  },
  {
   "cell_type": "code",
   "execution_count": null,
   "metadata": {},
   "outputs": [],
   "source": []
  },
  {
   "cell_type": "code",
   "execution_count": null,
   "metadata": {},
   "outputs": [],
   "source": []
  },
  {
   "cell_type": "code",
   "execution_count": null,
   "metadata": {},
   "outputs": [],
   "source": []
  },
  {
   "cell_type": "code",
   "execution_count": null,
   "metadata": {},
   "outputs": [],
   "source": []
  },
  {
   "cell_type": "code",
   "execution_count": null,
   "metadata": {},
   "outputs": [],
   "source": []
  },
  {
   "cell_type": "code",
   "execution_count": null,
   "metadata": {},
   "outputs": [],
   "source": []
  },
  {
   "cell_type": "code",
   "execution_count": null,
   "metadata": {},
   "outputs": [],
   "source": []
  },
  {
   "cell_type": "code",
   "execution_count": null,
   "metadata": {},
   "outputs": [],
   "source": []
  },
  {
   "cell_type": "code",
   "execution_count": null,
   "metadata": {},
   "outputs": [],
   "source": []
  },
  {
   "cell_type": "code",
   "execution_count": null,
   "metadata": {},
   "outputs": [],
   "source": []
  },
  {
   "cell_type": "code",
   "execution_count": null,
   "metadata": {},
   "outputs": [],
   "source": []
  },
  {
   "cell_type": "code",
   "execution_count": null,
   "metadata": {},
   "outputs": [],
   "source": []
  },
  {
   "cell_type": "code",
   "execution_count": null,
   "metadata": {},
   "outputs": [],
   "source": []
  },
  {
   "cell_type": "code",
   "execution_count": null,
   "metadata": {},
   "outputs": [],
   "source": []
  },
  {
   "cell_type": "code",
   "execution_count": null,
   "metadata": {},
   "outputs": [],
   "source": []
  },
  {
   "cell_type": "code",
   "execution_count": null,
   "metadata": {},
   "outputs": [],
   "source": []
  },
  {
   "cell_type": "code",
   "execution_count": null,
   "metadata": {},
   "outputs": [],
   "source": []
  },
  {
   "cell_type": "code",
   "execution_count": null,
   "metadata": {},
   "outputs": [],
   "source": []
  },
  {
   "cell_type": "code",
   "execution_count": null,
   "metadata": {},
   "outputs": [],
   "source": []
  },
  {
   "cell_type": "code",
   "execution_count": null,
   "metadata": {},
   "outputs": [],
   "source": []
  },
  {
   "cell_type": "code",
   "execution_count": null,
   "metadata": {},
   "outputs": [],
   "source": []
  },
  {
   "cell_type": "code",
   "execution_count": null,
   "metadata": {},
   "outputs": [],
   "source": []
  },
  {
   "cell_type": "code",
   "execution_count": null,
   "metadata": {},
   "outputs": [],
   "source": []
  },
  {
   "cell_type": "code",
   "execution_count": null,
   "metadata": {},
   "outputs": [],
   "source": []
  },
  {
   "cell_type": "code",
   "execution_count": null,
   "metadata": {},
   "outputs": [],
   "source": []
  },
  {
   "cell_type": "code",
   "execution_count": null,
   "metadata": {},
   "outputs": [],
   "source": []
  },
  {
   "cell_type": "code",
   "execution_count": null,
   "metadata": {},
   "outputs": [],
   "source": []
  },
  {
   "cell_type": "code",
   "execution_count": null,
   "metadata": {},
   "outputs": [],
   "source": []
  },
  {
   "cell_type": "code",
   "execution_count": null,
   "metadata": {},
   "outputs": [],
   "source": []
  },
  {
   "cell_type": "code",
   "execution_count": null,
   "metadata": {},
   "outputs": [],
   "source": []
  },
  {
   "cell_type": "code",
   "execution_count": null,
   "metadata": {},
   "outputs": [],
   "source": []
  },
  {
   "cell_type": "code",
   "execution_count": null,
   "metadata": {},
   "outputs": [],
   "source": []
  }
 ],
 "metadata": {
  "kernelspec": {
   "display_name": "Python 3",
   "language": "python",
   "name": "python3"
  },
  "language_info": {
   "codemirror_mode": {
    "name": "ipython",
    "version": 3
   },
   "file_extension": ".py",
   "mimetype": "text/x-python",
   "name": "python",
   "nbconvert_exporter": "python",
   "pygments_lexer": "ipython3",
   "version": "3.6.5"
  }
 },
 "nbformat": 4,
 "nbformat_minor": 2
}
